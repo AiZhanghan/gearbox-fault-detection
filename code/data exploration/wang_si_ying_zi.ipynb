{
 "cells": [
  {
   "cell_type": "code",
   "execution_count": 1,
   "metadata": {},
   "outputs": [],
   "source": [
    "# 王四营子数据的日期分布\n",
    "# 只有10天的数据，没法用"
   ]
  },
  {
   "cell_type": "code",
   "execution_count": 2,
   "metadata": {},
   "outputs": [],
   "source": [
    "import os"
   ]
  },
  {
   "cell_type": "code",
   "execution_count": 26,
   "metadata": {},
   "outputs": [
    {
     "data": {
      "text/plain": [
       "['16', '6', '8', '9']"
      ]
     },
     "execution_count": 26,
     "metadata": {},
     "output_type": "execute_result"
    }
   ],
   "source": [
    "basepath = r\"E:\\data\\海装\\CMS\\王四营子\\时域波形数据\"\n",
    "wind_turbines = os.listdir(basepath)\n",
    "wind_turbines"
   ]
  },
  {
   "cell_type": "code",
   "execution_count": 27,
   "metadata": {},
   "outputs": [
    {
     "name": "stdout",
     "output_type": "stream",
     "text": [
      "16: 20181208205129 - 20181218142006\n",
      "6: 20181208192852 - 20181218141754\n",
      "8: 20181208204929 - 20181218141819\n",
      "9: 20181208204944 - 20181218141831\n"
     ]
    }
   ],
   "source": [
    "for wind_turbine in wind_turbines:\n",
    "    # 各风机文件\n",
    "    files = os.listdir(os.path.join(basepath, wind_turbine))\n",
    "    # 采样时间\n",
    "    files_time = []\n",
    "    for i, file in enumerate(files):\n",
    "        temp, _ = os.path.splitext(file)\n",
    "        files_time.append(temp.split(\"_\")[-1])\n",
    "    files_time.sort()\n",
    "    print(\"%s: %s - %s\" % (wind_turbine, files_time[0], files_time[-1]))"
   ]
  },
  {
   "cell_type": "code",
   "execution_count": null,
   "metadata": {},
   "outputs": [],
   "source": []
  }
 ],
 "metadata": {
  "kernelspec": {
   "display_name": "Python (gearbox_fault_detection)",
   "language": "python",
   "name": "gearbox_fault_detection"
  },
  "language_info": {
   "codemirror_mode": {
    "name": "ipython",
    "version": 3
   },
   "file_extension": ".py",
   "mimetype": "text/x-python",
   "name": "python",
   "nbconvert_exporter": "python",
   "pygments_lexer": "ipython3",
   "version": "3.7.9"
  }
 },
 "nbformat": 4,
 "nbformat_minor": 4
}
