{
 "cells": [
  {
   "cell_type": "code",
   "execution_count": 1,
   "metadata": {},
   "outputs": [
    {
     "name": "stderr",
     "output_type": "stream",
     "text": [
      "Using TensorFlow backend.\n",
      "D:\\Software\\Anaconda\\lib\\site-packages\\sklearn\\utils\\deprecation.py:143: FutureWarning: The sklearn.utils.testing module is  deprecated in version 0.22 and will be removed in version 0.24. The corresponding classes / functions should instead be imported from sklearn.utils. Anything that cannot be imported from sklearn.utils is now part of the private API.\n",
      "  warnings.warn(message, FutureWarning)\n"
     ]
    }
   ],
   "source": [
    "import os\n",
    "import sys\n",
    "sys.path.append(\"../../\")\n",
    "from imp import reload\n",
    "\n",
    "import Reader\n",
    "import toolkit\n",
    "import visualization\n",
    "# import GearboxFaultDetector\n",
    "import model_entry"
   ]
  },
  {
   "cell_type": "code",
   "execution_count": 2,
   "metadata": {},
   "outputs": [],
   "source": [
    "# reload(Reader)"
   ]
  },
  {
   "cell_type": "code",
   "execution_count": 3,
   "metadata": {},
   "outputs": [],
   "source": [
    "feature_path = r\"D:\\Workspace\\python_workspace\\gearbox-fault-detection\\local\\feature\\niu_jia_ling\"\n",
    "speed_path = r\"D:\\Workspace\\python_workspace\\gearbox-fault-detection\\local\\rotating_speed\\niu_jia_ling\"\n",
    "wind_turbine = \"7\"\n",
    "sensors = (\n",
    "    \"gearbox\",\n",
    "    \"low_speed_shaft\",\n",
    "    \"high_speed_shaft\",\n",
    ")"
   ]
  },
  {
   "cell_type": "code",
   "execution_count": 4,
   "metadata": {},
   "outputs": [
    {
     "name": "stdout",
     "output_type": "stream",
     "text": [
      "feature.shape: (3059, 75)\n",
      "speed.shape: (3059, 1)\n"
     ]
    }
   ],
   "source": [
    "reader = Reader.Reader()\n",
    "feature = reader.read_feature(os.path.join(feature_path, wind_turbine), sensors)\n",
    "speed = reader.read_speed(os.path.join(speed_path, wind_turbine), sensors)\n",
    "\n",
    "toolkit.print_shape(feature=feature, speed=speed)"
   ]
  },
  {
   "cell_type": "code",
   "execution_count": 5,
   "metadata": {},
   "outputs": [
    {
     "data": {
      "text/plain": [
       "array([[<AxesSubplot:title={'center':'speed'}>]], dtype=object)"
      ]
     },
     "execution_count": 5,
     "metadata": {},
     "output_type": "execute_result"
    },
    {
     "data": {
      "image/png": "[encoded data removed]",
      "text/plain": [
       "<Figure size 432x288 with 1 Axes>"
      ]
     },
     "metadata": {
      "needs_background": "light"
     },
     "output_type": "display_data"
    }
   ],
   "source": [
    "speed.hist(bins=128)"
   ]
  },
  {
   "cell_type": "code",
   "execution_count": 6,
   "metadata": {},
   "outputs": [
    {
     "name": "stdout",
     "output_type": "stream",
     "text": [
      "feature.shape: (2942, 75)\n",
      "speed.shape: (2942, 1)\n"
     ]
    },
    {
     "data": {
      "image/png": "[encoded data removed]",
      "text/plain": [
       "<Figure size 432x288 with 1 Axes>"
      ]
     },
     "metadata": {
      "needs_background": "light"
     },
     "output_type": "display_data"
    }
   ],
   "source": [
    "feature = feature[speed.speed >= 1000]\n",
    "speed = speed[speed.speed >= 1000]\n",
    "\n",
    "toolkit.print_shape(feature=feature, speed=speed)\n",
    "\n",
    "visualization.data_distribution(feature)"
   ]
  },
  {
   "cell_type": "code",
   "execution_count": 7,
   "metadata": {},
   "outputs": [
    {
     "name": "stdout",
     "output_type": "stream",
     "text": [
      "feature_train.shape: (2181, 75)\n",
      "speed_train.shape: (2181, 1)\n",
      "feature_test.shape: (761, 75)\n",
      "speed_test.shape: (761, 1)\n"
     ]
    }
   ],
   "source": [
    "# 划分train set, test set\n",
    "train_start = \"2018-05\"\n",
    "train_end = \"2019-07\"\n",
    "\n",
    "test_start = \"2019-08\"\n",
    "test_end = \"2019\"\n",
    "\n",
    "feature_train = feature[train_start: train_end]\n",
    "speed_train = speed[train_start: train_end]\n",
    "\n",
    "feature_test = feature[test_start: test_end]\n",
    "speed_test = speed[test_start: test_end]\n",
    "\n",
    "toolkit.print_shape(feature_train=feature_train, speed_train=speed_train, feature_test=feature_test, speed_test=speed_test)"
   ]
  },
  {
   "cell_type": "code",
   "execution_count": 8,
   "metadata": {},
   "outputs": [],
   "source": [
    "feature_test = feature\n",
    "speed_test = speed"
   ]
  },
  {
   "cell_type": "code",
   "execution_count": 9,
   "metadata": {},
   "outputs": [],
   "source": [
    "detector = model_entry.OutlierDetector()"
   ]
  },
  {
   "cell_type": "code",
   "execution_count": 10,
   "metadata": {
    "scrolled": true
   },
   "outputs": [
    {
     "name": "stdout",
     "output_type": "stream",
     "text": [
      "WARNING:tensorflow:From D:\\Software\\Anaconda\\lib\\site-packages\\keras\\backend\\tensorflow_backend.py:74: The name tf.get_default_graph is deprecated. Please use tf.compat.v1.get_default_graph instead.\n",
      "\n",
      "WARNING:tensorflow:From D:\\Software\\Anaconda\\lib\\site-packages\\keras\\backend\\tensorflow_backend.py:517: The name tf.placeholder is deprecated. Please use tf.compat.v1.placeholder instead.\n",
      "\n",
      "WARNING:tensorflow:From D:\\Software\\Anaconda\\lib\\site-packages\\keras\\backend\\tensorflow_backend.py:4138: The name tf.random_uniform is deprecated. Please use tf.random.uniform instead.\n",
      "\n",
      "WARNING:tensorflow:From D:\\Software\\Anaconda\\lib\\site-packages\\keras\\backend\\tensorflow_backend.py:133: The name tf.placeholder_with_default is deprecated. Please use tf.compat.v1.placeholder_with_default instead.\n",
      "\n",
      "WARNING:tensorflow:From D:\\Software\\Anaconda\\lib\\site-packages\\keras\\backend\\tensorflow_backend.py:3445: calling dropout (from tensorflow.python.ops.nn_ops) with keep_prob is deprecated and will be removed in a future version.\n",
      "Instructions for updating:\n",
      "Please use `rate` instead of `keep_prob`. Rate should be set to `rate = 1 - keep_prob`.\n",
      "WARNING:tensorflow:From D:\\Software\\Anaconda\\lib\\site-packages\\keras\\optimizers.py:790: The name tf.train.Optimizer is deprecated. Please use tf.compat.v1.train.Optimizer instead.\n",
      "\n",
      "WARNING:tensorflow:From D:\\Software\\Anaconda\\lib\\site-packages\\keras\\backend\\tensorflow_backend.py:986: The name tf.assign_add is deprecated. Please use tf.compat.v1.assign_add instead.\n",
      "\n",
      "WARNING:tensorflow:From D:\\Software\\Anaconda\\lib\\site-packages\\keras\\backend\\tensorflow_backend.py:973: The name tf.assign is deprecated. Please use tf.compat.v1.assign instead.\n",
      "\n",
      "WARNING:tensorflow:From D:\\Software\\Anaconda\\lib\\site-packages\\keras\\backend\\tensorflow_backend.py:2741: The name tf.Session is deprecated. Please use tf.compat.v1.Session instead.\n",
      "\n",
      "WARNING:tensorflow:From D:\\Software\\Anaconda\\lib\\site-packages\\keras\\backend\\tensorflow_backend.py:174: The name tf.get_default_session is deprecated. Please use tf.compat.v1.get_default_session instead.\n",
      "\n",
      "WARNING:tensorflow:From D:\\Software\\Anaconda\\lib\\site-packages\\keras\\backend\\tensorflow_backend.py:181: The name tf.ConfigProto is deprecated. Please use tf.compat.v1.ConfigProto instead.\n",
      "\n",
      "WARNING:tensorflow:From D:\\Software\\Anaconda\\lib\\site-packages\\keras\\backend\\tensorflow_backend.py:190: The name tf.global_variables is deprecated. Please use tf.compat.v1.global_variables instead.\n",
      "\n",
      "WARNING:tensorflow:From D:\\Software\\Anaconda\\lib\\site-packages\\keras\\backend\\tensorflow_backend.py:199: The name tf.is_variable_initialized is deprecated. Please use tf.compat.v1.is_variable_initialized instead.\n",
      "\n",
      "WARNING:tensorflow:From D:\\Software\\Anaconda\\lib\\site-packages\\keras\\backend\\tensorflow_backend.py:206: The name tf.variables_initializer is deprecated. Please use tf.compat.v1.variables_initializer instead.\n",
      "\n"
     ]
    }
   ],
   "source": [
    "detector.fit(feature_train)"
   ]
  },
  {
   "cell_type": "code",
   "execution_count": 11,
   "metadata": {},
   "outputs": [
    {
     "data": {
      "text/plain": [
       "<AxesSubplot:xlabel='date'>"
      ]
     },
     "execution_count": 11,
     "metadata": {},
     "output_type": "execute_result"
    },
    {
     "data": {
      "image/png": "[encoded data removed]",
      "text/plain": [
       "<Figure size 432x288 with 1 Axes>"
      ]
     },
     "metadata": {
      "needs_background": "light"
     },
     "output_type": "display_data"
    }
   ],
   "source": [
    "detector.decision_scores.plot()"
   ]
  },
  {
   "cell_type": "code",
   "execution_count": 12,
   "metadata": {},
   "outputs": [],
   "source": [
    "anomaly_scores = detector.decision_function(feature_test)"
   ]
  },
  {
   "cell_type": "code",
   "execution_count": 13,
   "metadata": {},
   "outputs": [
    {
     "data": {
      "text/plain": [
       "<AxesSubplot:xlabel='date'>"
      ]
     },
     "execution_count": 13,
     "metadata": {},
     "output_type": "execute_result"
    },
    {
     "data": {
      "image/png": "[encoded data removed]",
      "text/plain": [
       "<Figure size 432x288 with 1 Axes>"
      ]
     },
     "metadata": {
      "needs_background": "light"
     },
     "output_type": "display_data"
    }
   ],
   "source": [
    "anomaly_scores.plot()"
   ]
  },
  {
   "cell_type": "code",
   "execution_count": 14,
   "metadata": {},
   "outputs": [
    {
     "data": {
      "text/html": [
       "<div>\n",
       "<style scoped>\n",
       "    .dataframe tbody tr th:only-of-type {\n",
       "        vertical-align: middle;\n",
       "    }\n",
       "\n",
       "    .dataframe tbody tr th {\n",
       "        vertical-align: top;\n",
       "    }\n",
       "\n",
       "    .dataframe thead th {\n",
       "        text-align: right;\n",
       "    }\n",
       "</style>\n",
       "<table border=\"1\" class=\"dataframe\">\n",
       "  <thead>\n",
       "    <tr style=\"text-align: right;\">\n",
       "      <th></th>\n",
       "      <th>0</th>\n",
       "    </tr>\n",
       "    <tr>\n",
       "      <th>date</th>\n",
       "      <th></th>\n",
       "    </tr>\n",
       "  </thead>\n",
       "  <tbody>\n",
       "    <tr>\n",
       "      <th>2018-05-19 11:00</th>\n",
       "      <td>4.008638</td>\n",
       "    </tr>\n",
       "    <tr>\n",
       "      <th>2018-05-22 16:00</th>\n",
       "      <td>4.208111</td>\n",
       "    </tr>\n",
       "    <tr>\n",
       "      <th>2018-05-27 17:00</th>\n",
       "      <td>4.032938</td>\n",
       "    </tr>\n",
       "    <tr>\n",
       "      <th>2018-08-02 19:00</th>\n",
       "      <td>5.729415</td>\n",
       "    </tr>\n",
       "    <tr>\n",
       "      <th>2018-08-02 20:00</th>\n",
       "      <td>5.106798</td>\n",
       "    </tr>\n",
       "    <tr>\n",
       "      <th>2018-08-02 21:00</th>\n",
       "      <td>6.381902</td>\n",
       "    </tr>\n",
       "    <tr>\n",
       "      <th>2018-08-03 01:00</th>\n",
       "      <td>4.000920</td>\n",
       "    </tr>\n",
       "    <tr>\n",
       "      <th>2019-07-14 00:00</th>\n",
       "      <td>4.301099</td>\n",
       "    </tr>\n",
       "    <tr>\n",
       "      <th>2019-07-14 01:00</th>\n",
       "      <td>4.326004</td>\n",
       "    </tr>\n",
       "    <tr>\n",
       "      <th>2019-07-14 23:00</th>\n",
       "      <td>5.785730</td>\n",
       "    </tr>\n",
       "    <tr>\n",
       "      <th>2019-07-15 13:00</th>\n",
       "      <td>5.890351</td>\n",
       "    </tr>\n",
       "    <tr>\n",
       "      <th>2019-07-15 17:00</th>\n",
       "      <td>6.027193</td>\n",
       "    </tr>\n",
       "    <tr>\n",
       "      <th>2019-07-15 20:00</th>\n",
       "      <td>4.559428</td>\n",
       "    </tr>\n",
       "    <tr>\n",
       "      <th>2019-07-15 23:00</th>\n",
       "      <td>4.132223</td>\n",
       "    </tr>\n",
       "    <tr>\n",
       "      <th>2019-07-16 00:00</th>\n",
       "      <td>6.183401</td>\n",
       "    </tr>\n",
       "    <tr>\n",
       "      <th>2019-07-16 14:00</th>\n",
       "      <td>4.550050</td>\n",
       "    </tr>\n",
       "    <tr>\n",
       "      <th>2019-07-17 06:00</th>\n",
       "      <td>7.009659</td>\n",
       "    </tr>\n",
       "    <tr>\n",
       "      <th>2019-07-18 22:00</th>\n",
       "      <td>5.192023</td>\n",
       "    </tr>\n",
       "    <tr>\n",
       "      <th>2019-08-28 15:00</th>\n",
       "      <td>9.692801</td>\n",
       "    </tr>\n",
       "    <tr>\n",
       "      <th>2019-08-28 16:00</th>\n",
       "      <td>5.781133</td>\n",
       "    </tr>\n",
       "    <tr>\n",
       "      <th>2019-08-28 17:00</th>\n",
       "      <td>5.958342</td>\n",
       "    </tr>\n",
       "    <tr>\n",
       "      <th>2019-08-28 18:00</th>\n",
       "      <td>6.568870</td>\n",
       "    </tr>\n",
       "    <tr>\n",
       "      <th>2019-08-28 21:00</th>\n",
       "      <td>4.490488</td>\n",
       "    </tr>\n",
       "    <tr>\n",
       "      <th>2019-08-28 22:00</th>\n",
       "      <td>6.179829</td>\n",
       "    </tr>\n",
       "    <tr>\n",
       "      <th>2019-08-29 00:00</th>\n",
       "      <td>6.033468</td>\n",
       "    </tr>\n",
       "    <tr>\n",
       "      <th>2019-08-29 01:00</th>\n",
       "      <td>5.832929</td>\n",
       "    </tr>\n",
       "    <tr>\n",
       "      <th>2019-08-29 02:00</th>\n",
       "      <td>6.448049</td>\n",
       "    </tr>\n",
       "    <tr>\n",
       "      <th>2019-08-29 03:00</th>\n",
       "      <td>4.254955</td>\n",
       "    </tr>\n",
       "    <tr>\n",
       "      <th>2019-08-29 06:00</th>\n",
       "      <td>6.079803</td>\n",
       "    </tr>\n",
       "    <tr>\n",
       "      <th>2019-08-29 07:00</th>\n",
       "      <td>9.415440</td>\n",
       "    </tr>\n",
       "    <tr>\n",
       "      <th>2019-08-29 08:00</th>\n",
       "      <td>10.093334</td>\n",
       "    </tr>\n",
       "    <tr>\n",
       "      <th>2019-08-29 09:00</th>\n",
       "      <td>6.116909</td>\n",
       "    </tr>\n",
       "    <tr>\n",
       "      <th>2019-08-29 10:00</th>\n",
       "      <td>6.104225</td>\n",
       "    </tr>\n",
       "    <tr>\n",
       "      <th>2019-09-28 01:00</th>\n",
       "      <td>4.636778</td>\n",
       "    </tr>\n",
       "    <tr>\n",
       "      <th>2019-09-28 02:00</th>\n",
       "      <td>4.146496</td>\n",
       "    </tr>\n",
       "    <tr>\n",
       "      <th>2019-09-28 03:00</th>\n",
       "      <td>5.527358</td>\n",
       "    </tr>\n",
       "    <tr>\n",
       "      <th>2019-09-28 04:00</th>\n",
       "      <td>4.394508</td>\n",
       "    </tr>\n",
       "    <tr>\n",
       "      <th>2019-09-28 05:00</th>\n",
       "      <td>5.226955</td>\n",
       "    </tr>\n",
       "    <tr>\n",
       "      <th>2019-10-27 13:00</th>\n",
       "      <td>4.401126</td>\n",
       "    </tr>\n",
       "    <tr>\n",
       "      <th>2019-10-27 23:00</th>\n",
       "      <td>4.520032</td>\n",
       "    </tr>\n",
       "    <tr>\n",
       "      <th>2019-10-28 01:00</th>\n",
       "      <td>4.015058</td>\n",
       "    </tr>\n",
       "    <tr>\n",
       "      <th>2019-10-30 16:00</th>\n",
       "      <td>7.831801</td>\n",
       "    </tr>\n",
       "    <tr>\n",
       "      <th>2019-10-30 17:00</th>\n",
       "      <td>6.807905</td>\n",
       "    </tr>\n",
       "    <tr>\n",
       "      <th>2019-10-30 18:00</th>\n",
       "      <td>8.246841</td>\n",
       "    </tr>\n",
       "    <tr>\n",
       "      <th>2019-10-30 19:00</th>\n",
       "      <td>6.774263</td>\n",
       "    </tr>\n",
       "    <tr>\n",
       "      <th>2019-10-30 20:00</th>\n",
       "      <td>9.867105</td>\n",
       "    </tr>\n",
       "    <tr>\n",
       "      <th>2019-10-30 21:00</th>\n",
       "      <td>9.092790</td>\n",
       "    </tr>\n",
       "    <tr>\n",
       "      <th>2019-10-30 22:00</th>\n",
       "      <td>11.707577</td>\n",
       "    </tr>\n",
       "    <tr>\n",
       "      <th>2019-10-30 23:00</th>\n",
       "      <td>10.649395</td>\n",
       "    </tr>\n",
       "    <tr>\n",
       "      <th>2019-10-31 00:00</th>\n",
       "      <td>11.206059</td>\n",
       "    </tr>\n",
       "    <tr>\n",
       "      <th>2019-10-31 01:00</th>\n",
       "      <td>7.132976</td>\n",
       "    </tr>\n",
       "    <tr>\n",
       "      <th>2019-10-31 02:00</th>\n",
       "      <td>9.799660</td>\n",
       "    </tr>\n",
       "    <tr>\n",
       "      <th>2019-10-31 03:00</th>\n",
       "      <td>6.896050</td>\n",
       "    </tr>\n",
       "    <tr>\n",
       "      <th>2019-10-31 04:00</th>\n",
       "      <td>6.411755</td>\n",
       "    </tr>\n",
       "    <tr>\n",
       "      <th>2019-11-01 00:00</th>\n",
       "      <td>4.911154</td>\n",
       "    </tr>\n",
       "    <tr>\n",
       "      <th>2019-11-01 12:00</th>\n",
       "      <td>6.441821</td>\n",
       "    </tr>\n",
       "    <tr>\n",
       "      <th>2019-11-01 17:00</th>\n",
       "      <td>4.458076</td>\n",
       "    </tr>\n",
       "    <tr>\n",
       "      <th>2019-11-01 21:00</th>\n",
       "      <td>6.645899</td>\n",
       "    </tr>\n",
       "    <tr>\n",
       "      <th>2019-11-01 22:00</th>\n",
       "      <td>6.046379</td>\n",
       "    </tr>\n",
       "    <tr>\n",
       "      <th>2019-11-01 23:00</th>\n",
       "      <td>5.894884</td>\n",
       "    </tr>\n",
       "  </tbody>\n",
       "</table>\n",
       "</div>"
      ],
      "text/plain": [
       "                          0\n",
       "date                       \n",
       "2018-05-19 11:00   4.008638\n",
       "2018-05-22 16:00   4.208111\n",
       "2018-05-27 17:00   4.032938\n",
       "2018-08-02 19:00   5.729415\n",
       "2018-08-02 20:00   5.106798\n",
       "2018-08-02 21:00   6.381902\n",
       "2018-08-03 01:00   4.000920\n",
       "2019-07-14 00:00   4.301099\n",
       "2019-07-14 01:00   4.326004\n",
       "2019-07-14 23:00   5.785730\n",
       "2019-07-15 13:00   5.890351\n",
       "2019-07-15 17:00   6.027193\n",
       "2019-07-15 20:00   4.559428\n",
       "2019-07-15 23:00   4.132223\n",
       "2019-07-16 00:00   6.183401\n",
       "2019-07-16 14:00   4.550050\n",
       "2019-07-17 06:00   7.009659\n",
       "2019-07-18 22:00   5.192023\n",
       "2019-08-28 15:00   9.692801\n",
       "2019-08-28 16:00   5.781133\n",
       "2019-08-28 17:00   5.958342\n",
       "2019-08-28 18:00   6.568870\n",
       "2019-08-28 21:00   4.490488\n",
       "2019-08-28 22:00   6.179829\n",
       "2019-08-29 00:00   6.033468\n",
       "2019-08-29 01:00   5.832929\n",
       "2019-08-29 02:00   6.448049\n",
       "2019-08-29 03:00   4.254955\n",
       "2019-08-29 06:00   6.079803\n",
       "2019-08-29 07:00   9.415440\n",
       "2019-08-29 08:00  10.093334\n",
       "2019-08-29 09:00   6.116909\n",
       "2019-08-29 10:00   6.104225\n",
       "2019-09-28 01:00   4.636778\n",
       "2019-09-28 02:00   4.146496\n",
       "2019-09-28 03:00   5.527358\n",
       "2019-09-28 04:00   4.394508\n",
       "2019-09-28 05:00   5.226955\n",
       "2019-10-27 13:00   4.401126\n",
       "2019-10-27 23:00   4.520032\n",
       "2019-10-28 01:00   4.015058\n",
       "2019-10-30 16:00   7.831801\n",
       "2019-10-30 17:00   6.807905\n",
       "2019-10-30 18:00   8.246841\n",
       "2019-10-30 19:00   6.774263\n",
       "2019-10-30 20:00   9.867105\n",
       "2019-10-30 21:00   9.092790\n",
       "2019-10-30 22:00  11.707577\n",
       "2019-10-30 23:00  10.649395\n",
       "2019-10-31 00:00  11.206059\n",
       "2019-10-31 01:00   7.132976\n",
       "2019-10-31 02:00   9.799660\n",
       "2019-10-31 03:00   6.896050\n",
       "2019-10-31 04:00   6.411755\n",
       "2019-11-01 00:00   4.911154\n",
       "2019-11-01 12:00   6.441821\n",
       "2019-11-01 17:00   4.458076\n",
       "2019-11-01 21:00   6.645899\n",
       "2019-11-01 22:00   6.046379\n",
       "2019-11-01 23:00   5.894884"
      ]
     },
     "execution_count": 14,
     "metadata": {},
     "output_type": "execute_result"
    }
   ],
   "source": [
    "anomaly_scores[anomaly_scores[0] > 4]"
   ]
  }
 ],
 "metadata": {
  "kernelspec": {
   "display_name": "Python 3",
   "language": "python",
   "name": "python3"
  },
  "language_info": {
   "codemirror_mode": {
    "name": "ipython",
    "version": 3
   },
   "file_extension": ".py",
   "mimetype": "text/x-python",
   "name": "python",
   "nbconvert_exporter": "python",
   "pygments_lexer": "ipython3",
   "version": "3.7.6"
  }
 },
 "nbformat": 4,
 "nbformat_minor": 4
}
