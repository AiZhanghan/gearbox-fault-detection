{
 "cells": [
  {
   "cell_type": "code",
   "execution_count": 1,
   "metadata": {},
   "outputs": [
    {
     "name": "stderr",
     "output_type": "stream",
     "text": [
      "Using TensorFlow backend.\n",
      "D:\\Software\\Anaconda\\lib\\site-packages\\sklearn\\utils\\deprecation.py:143: FutureWarning: The sklearn.utils.testing module is  deprecated in version 0.22 and will be removed in version 0.24. The corresponding classes / functions should instead be imported from sklearn.utils. Anything that cannot be imported from sklearn.utils is now part of the private API.\n",
      "  warnings.warn(message, FutureWarning)\n"
     ]
    }
   ],
   "source": [
    "import os\n",
    "import sys\n",
    "sys.path.append(\"../../\")\n",
    "from imp import reload\n",
    "\n",
    "import Reader\n",
    "import toolkit\n",
    "import visualization\n",
    "# import GearboxFaultDetector\n",
    "import model_entry"
   ]
  },
  {
   "cell_type": "code",
   "execution_count": 2,
   "metadata": {},
   "outputs": [],
   "source": [
    "# reload(Reader)"
   ]
  },
  {
   "cell_type": "code",
   "execution_count": 3,
   "metadata": {},
   "outputs": [],
   "source": [
    "feature_path = r\"D:\\Workspace\\python_workspace\\gearbox-fault-detection\\local\\feature\\niu_jia_ling\"\n",
    "speed_path = r\"D:\\Workspace\\python_workspace\\gearbox-fault-detection\\local\\rotating_speed\\niu_jia_ling\"\n",
    "wind_turbine = \"7\"\n",
    "sensors = (\n",
    "    \"gearbox\",\n",
    "    \"low_speed_shaft\",\n",
    "    \"high_speed_shaft\",\n",
    ")"
   ]
  },
  {
   "cell_type": "code",
   "execution_count": 4,
   "metadata": {},
   "outputs": [
    {
     "name": "stdout",
     "output_type": "stream",
     "text": [
      "feature.shape: (3059, 75)\n",
      "speed.shape: (3059, 1)\n"
     ]
    }
   ],
   "source": [
    "reader = Reader.Reader()\n",
    "feature = reader.read_feature(os.path.join(feature_path, wind_turbine), sensors)\n",
    "speed = reader.read_speed(os.path.join(speed_path, wind_turbine), sensors)\n",
    "\n",
    "toolkit.print_shape(feature=feature, speed=speed)"
   ]
  },
  {
   "cell_type": "code",
   "execution_count": 5,
   "metadata": {},
   "outputs": [
    {
     "data": {
      "text/plain": [
       "array([[<AxesSubplot:title={'center':'speed'}>]], dtype=object)"
      ]
     },
     "execution_count": 5,
     "metadata": {},
     "output_type": "execute_result"
    },
    {
     "data": {
      "image/png": "[encoded data removed]",
      "text/plain": [
       "<Figure size 432x288 with 1 Axes>"
      ]
     },
     "metadata": {
      "needs_background": "light"
     },
     "output_type": "display_data"
    }
   ],
   "source": [
    "speed.hist(bins=128)"
   ]
  },
  {
   "cell_type": "code",
   "execution_count": 6,
   "metadata": {},
   "outputs": [
    {
     "name": "stdout",
     "output_type": "stream",
     "text": [
      "feature.shape: (2973, 75)\n",
      "speed.shape: (2973, 1)\n"
     ]
    },
    {
     "data": {
      "image/png": "[encoded data removed]",
      "text/plain": [
       "<Figure size 432x288 with 1 Axes>"
      ]
     },
     "metadata": {
      "needs_background": "light"
     },
     "output_type": "display_data"
    }
   ],
   "source": [
    "speed_threshold = 250\n",
    "feature = feature[speed.speed >= speed_threshold]\n",
    "speed = speed[speed.speed >= speed_threshold]\n",
    "\n",
    "toolkit.print_shape(feature=feature, speed=speed)\n",
    "\n",
    "visualization.data_distribution(feature)"
   ]
  },
  {
   "cell_type": "code",
   "execution_count": 7,
   "metadata": {},
   "outputs": [
    {
     "name": "stdout",
     "output_type": "stream",
     "text": [
      "feature_train.shape: (2202, 75)\n",
      "speed_train.shape: (2202, 1)\n",
      "feature_test.shape: (771, 75)\n",
      "speed_test.shape: (771, 1)\n"
     ]
    }
   ],
   "source": [
    "# 划分train set, test set\n",
    "train_start = \"2018-05\"\n",
    "train_end = \"2019-07\"\n",
    "\n",
    "test_start = \"2019-08\"\n",
    "test_end = \"2019\"\n",
    "\n",
    "feature_train = feature[train_start: train_end]\n",
    "speed_train = speed[train_start: train_end]\n",
    "\n",
    "feature_test = feature[test_start: test_end]\n",
    "speed_test = speed[test_start: test_end]\n",
    "\n",
    "toolkit.print_shape(feature_train=feature_train, speed_train=speed_train, feature_test=feature_test, speed_test=speed_test)"
   ]
  },
  {
   "cell_type": "code",
   "execution_count": 8,
   "metadata": {},
   "outputs": [],
   "source": [
    "feature_test = feature\n",
    "speed_test = speed"
   ]
  },
  {
   "cell_type": "code",
   "execution_count": 9,
   "metadata": {},
   "outputs": [],
   "source": [
    "detector = model_entry.OutlierDetector()"
   ]
  },
  {
   "cell_type": "code",
   "execution_count": 10,
   "metadata": {
    "scrolled": true
   },
   "outputs": [
    {
     "name": "stdout",
     "output_type": "stream",
     "text": [
      "WARNING:tensorflow:From D:\\Software\\Anaconda\\lib\\site-packages\\keras\\backend\\tensorflow_backend.py:74: The name tf.get_default_graph is deprecated. Please use tf.compat.v1.get_default_graph instead.\n",
      "\n",
      "WARNING:tensorflow:From D:\\Software\\Anaconda\\lib\\site-packages\\keras\\backend\\tensorflow_backend.py:517: The name tf.placeholder is deprecated. Please use tf.compat.v1.placeholder instead.\n",
      "\n",
      "WARNING:tensorflow:From D:\\Software\\Anaconda\\lib\\site-packages\\keras\\backend\\tensorflow_backend.py:4138: The name tf.random_uniform is deprecated. Please use tf.random.uniform instead.\n",
      "\n",
      "WARNING:tensorflow:From D:\\Software\\Anaconda\\lib\\site-packages\\keras\\backend\\tensorflow_backend.py:133: The name tf.placeholder_with_default is deprecated. Please use tf.compat.v1.placeholder_with_default instead.\n",
      "\n",
      "WARNING:tensorflow:From D:\\Software\\Anaconda\\lib\\site-packages\\keras\\backend\\tensorflow_backend.py:3445: calling dropout (from tensorflow.python.ops.nn_ops) with keep_prob is deprecated and will be removed in a future version.\n",
      "Instructions for updating:\n",
      "Please use `rate` instead of `keep_prob`. Rate should be set to `rate = 1 - keep_prob`.\n",
      "WARNING:tensorflow:From D:\\Software\\Anaconda\\lib\\site-packages\\keras\\optimizers.py:790: The name tf.train.Optimizer is deprecated. Please use tf.compat.v1.train.Optimizer instead.\n",
      "\n",
      "WARNING:tensorflow:From D:\\Software\\Anaconda\\lib\\site-packages\\keras\\backend\\tensorflow_backend.py:986: The name tf.assign_add is deprecated. Please use tf.compat.v1.assign_add instead.\n",
      "\n",
      "WARNING:tensorflow:From D:\\Software\\Anaconda\\lib\\site-packages\\keras\\backend\\tensorflow_backend.py:973: The name tf.assign is deprecated. Please use tf.compat.v1.assign instead.\n",
      "\n",
      "WARNING:tensorflow:From D:\\Software\\Anaconda\\lib\\site-packages\\keras\\backend\\tensorflow_backend.py:2741: The name tf.Session is deprecated. Please use tf.compat.v1.Session instead.\n",
      "\n",
      "WARNING:tensorflow:From D:\\Software\\Anaconda\\lib\\site-packages\\keras\\backend\\tensorflow_backend.py:174: The name tf.get_default_session is deprecated. Please use tf.compat.v1.get_default_session instead.\n",
      "\n",
      "WARNING:tensorflow:From D:\\Software\\Anaconda\\lib\\site-packages\\keras\\backend\\tensorflow_backend.py:181: The name tf.ConfigProto is deprecated. Please use tf.compat.v1.ConfigProto instead.\n",
      "\n",
      "WARNING:tensorflow:From D:\\Software\\Anaconda\\lib\\site-packages\\keras\\backend\\tensorflow_backend.py:190: The name tf.global_variables is deprecated. Please use tf.compat.v1.global_variables instead.\n",
      "\n",
      "WARNING:tensorflow:From D:\\Software\\Anaconda\\lib\\site-packages\\keras\\backend\\tensorflow_backend.py:199: The name tf.is_variable_initialized is deprecated. Please use tf.compat.v1.is_variable_initialized instead.\n",
      "\n",
      "WARNING:tensorflow:From D:\\Software\\Anaconda\\lib\\site-packages\\keras\\backend\\tensorflow_backend.py:206: The name tf.variables_initializer is deprecated. Please use tf.compat.v1.variables_initializer instead.\n",
      "\n"
     ]
    }
   ],
   "source": [
    "detector.fit(feature_train)"
   ]
  },
  {
   "cell_type": "code",
   "execution_count": 11,
   "metadata": {},
   "outputs": [
    {
     "data": {
      "text/plain": [
       "<AxesSubplot:xlabel='date'>"
      ]
     },
     "execution_count": 11,
     "metadata": {},
     "output_type": "execute_result"
    },
    {
     "data": {
      "image/png": "[encoded data removed]",
      "text/plain": [
       "<Figure size 432x288 with 1 Axes>"
      ]
     },
     "metadata": {
      "needs_background": "light"
     },
     "output_type": "display_data"
    }
   ],
   "source": [
    "detector.decision_scores.plot()"
   ]
  },
  {
   "cell_type": "code",
   "execution_count": 12,
   "metadata": {},
   "outputs": [],
   "source": [
    "anomaly_scores = detector.decision_function(feature_test)"
   ]
  },
  {
   "cell_type": "code",
   "execution_count": 13,
   "metadata": {},
   "outputs": [
    {
     "data": {
      "text/plain": [
       "<AxesSubplot:xlabel='date'>"
      ]
     },
     "execution_count": 13,
     "metadata": {},
     "output_type": "execute_result"
    },
    {
     "data": {
      "image/png": "[encoded data removed]",
      "text/plain": [
       "<Figure size 432x288 with 1 Axes>"
      ]
     },
     "metadata": {
      "needs_background": "light"
     },
     "output_type": "display_data"
    }
   ],
   "source": [
    "anomaly_scores.plot()"
   ]
  },
  {
   "cell_type": "code",
   "execution_count": 14,
   "metadata": {},
   "outputs": [
    {
     "data": {
      "text/html": [
       "<div>\n",
       "<style scoped>\n",
       "    .dataframe tbody tr th:only-of-type {\n",
       "        vertical-align: middle;\n",
       "    }\n",
       "\n",
       "    .dataframe tbody tr th {\n",
       "        vertical-align: top;\n",
       "    }\n",
       "\n",
       "    .dataframe thead th {\n",
       "        text-align: right;\n",
       "    }\n",
       "</style>\n",
       "<table border=\"1\" class=\"dataframe\">\n",
       "  <thead>\n",
       "    <tr style=\"text-align: right;\">\n",
       "      <th></th>\n",
       "      <th>0</th>\n",
       "    </tr>\n",
       "    <tr>\n",
       "      <th>date</th>\n",
       "      <th></th>\n",
       "    </tr>\n",
       "  </thead>\n",
       "  <tbody>\n",
       "    <tr>\n",
       "      <th>2018-08-02 19:00</th>\n",
       "      <td>5.178950</td>\n",
       "    </tr>\n",
       "    <tr>\n",
       "      <th>2018-08-02 20:00</th>\n",
       "      <td>4.609365</td>\n",
       "    </tr>\n",
       "    <tr>\n",
       "      <th>2018-08-02 21:00</th>\n",
       "      <td>5.548715</td>\n",
       "    </tr>\n",
       "    <tr>\n",
       "      <th>2019-07-14 01:00</th>\n",
       "      <td>4.024405</td>\n",
       "    </tr>\n",
       "    <tr>\n",
       "      <th>2019-07-14 23:00</th>\n",
       "      <td>5.168368</td>\n",
       "    </tr>\n",
       "    <tr>\n",
       "      <th>2019-07-15 13:00</th>\n",
       "      <td>5.271710</td>\n",
       "    </tr>\n",
       "    <tr>\n",
       "      <th>2019-07-15 17:00</th>\n",
       "      <td>5.368477</td>\n",
       "    </tr>\n",
       "    <tr>\n",
       "      <th>2019-07-15 20:00</th>\n",
       "      <td>4.107148</td>\n",
       "    </tr>\n",
       "    <tr>\n",
       "      <th>2019-07-16 00:00</th>\n",
       "      <td>5.546830</td>\n",
       "    </tr>\n",
       "    <tr>\n",
       "      <th>2019-07-16 14:00</th>\n",
       "      <td>4.184069</td>\n",
       "    </tr>\n",
       "    <tr>\n",
       "      <th>2019-07-17 06:00</th>\n",
       "      <td>6.322044</td>\n",
       "    </tr>\n",
       "    <tr>\n",
       "      <th>2019-07-18 22:00</th>\n",
       "      <td>4.732842</td>\n",
       "    </tr>\n",
       "    <tr>\n",
       "      <th>2019-08-28 15:00</th>\n",
       "      <td>8.535017</td>\n",
       "    </tr>\n",
       "    <tr>\n",
       "      <th>2019-08-28 16:00</th>\n",
       "      <td>5.157943</td>\n",
       "    </tr>\n",
       "    <tr>\n",
       "      <th>2019-08-28 17:00</th>\n",
       "      <td>5.321045</td>\n",
       "    </tr>\n",
       "    <tr>\n",
       "      <th>2019-08-28 18:00</th>\n",
       "      <td>5.872229</td>\n",
       "    </tr>\n",
       "    <tr>\n",
       "      <th>2019-08-28 21:00</th>\n",
       "      <td>4.173326</td>\n",
       "    </tr>\n",
       "    <tr>\n",
       "      <th>2019-08-28 22:00</th>\n",
       "      <td>5.562924</td>\n",
       "    </tr>\n",
       "    <tr>\n",
       "      <th>2019-08-29 00:00</th>\n",
       "      <td>5.428486</td>\n",
       "    </tr>\n",
       "    <tr>\n",
       "      <th>2019-08-29 01:00</th>\n",
       "      <td>5.202668</td>\n",
       "    </tr>\n",
       "    <tr>\n",
       "      <th>2019-08-29 02:00</th>\n",
       "      <td>5.817041</td>\n",
       "    </tr>\n",
       "    <tr>\n",
       "      <th>2019-08-29 06:00</th>\n",
       "      <td>5.370191</td>\n",
       "    </tr>\n",
       "    <tr>\n",
       "      <th>2019-08-29 07:00</th>\n",
       "      <td>8.272230</td>\n",
       "    </tr>\n",
       "    <tr>\n",
       "      <th>2019-08-29 08:00</th>\n",
       "      <td>8.855418</td>\n",
       "    </tr>\n",
       "    <tr>\n",
       "      <th>2019-08-29 09:00</th>\n",
       "      <td>5.469772</td>\n",
       "    </tr>\n",
       "    <tr>\n",
       "      <th>2019-08-29 10:00</th>\n",
       "      <td>5.416031</td>\n",
       "    </tr>\n",
       "    <tr>\n",
       "      <th>2019-09-28 01:00</th>\n",
       "      <td>4.267720</td>\n",
       "    </tr>\n",
       "    <tr>\n",
       "      <th>2019-09-28 03:00</th>\n",
       "      <td>5.012737</td>\n",
       "    </tr>\n",
       "    <tr>\n",
       "      <th>2019-09-28 04:00</th>\n",
       "      <td>4.016776</td>\n",
       "    </tr>\n",
       "    <tr>\n",
       "      <th>2019-09-28 05:00</th>\n",
       "      <td>4.727699</td>\n",
       "    </tr>\n",
       "    <tr>\n",
       "      <th>2019-10-27 13:00</th>\n",
       "      <td>4.090085</td>\n",
       "    </tr>\n",
       "    <tr>\n",
       "      <th>2019-10-27 23:00</th>\n",
       "      <td>4.158662</td>\n",
       "    </tr>\n",
       "    <tr>\n",
       "      <th>2019-10-30 16:00</th>\n",
       "      <td>6.878718</td>\n",
       "    </tr>\n",
       "    <tr>\n",
       "      <th>2019-10-30 17:00</th>\n",
       "      <td>5.911643</td>\n",
       "    </tr>\n",
       "    <tr>\n",
       "      <th>2019-10-30 18:00</th>\n",
       "      <td>7.241539</td>\n",
       "    </tr>\n",
       "    <tr>\n",
       "      <th>2019-10-30 19:00</th>\n",
       "      <td>5.950152</td>\n",
       "    </tr>\n",
       "    <tr>\n",
       "      <th>2019-10-30 20:00</th>\n",
       "      <td>8.669027</td>\n",
       "    </tr>\n",
       "    <tr>\n",
       "      <th>2019-10-30 21:00</th>\n",
       "      <td>7.943956</td>\n",
       "    </tr>\n",
       "    <tr>\n",
       "      <th>2019-10-30 22:00</th>\n",
       "      <td>10.233586</td>\n",
       "    </tr>\n",
       "    <tr>\n",
       "      <th>2019-10-30 23:00</th>\n",
       "      <td>9.357779</td>\n",
       "    </tr>\n",
       "    <tr>\n",
       "      <th>2019-10-31 00:00</th>\n",
       "      <td>9.816336</td>\n",
       "    </tr>\n",
       "    <tr>\n",
       "      <th>2019-10-31 01:00</th>\n",
       "      <td>6.340492</td>\n",
       "    </tr>\n",
       "    <tr>\n",
       "      <th>2019-10-31 02:00</th>\n",
       "      <td>8.620112</td>\n",
       "    </tr>\n",
       "    <tr>\n",
       "      <th>2019-10-31 03:00</th>\n",
       "      <td>5.969768</td>\n",
       "    </tr>\n",
       "    <tr>\n",
       "      <th>2019-10-31 04:00</th>\n",
       "      <td>5.617034</td>\n",
       "    </tr>\n",
       "    <tr>\n",
       "      <th>2019-11-01 00:00</th>\n",
       "      <td>4.537828</td>\n",
       "    </tr>\n",
       "    <tr>\n",
       "      <th>2019-11-01 12:00</th>\n",
       "      <td>5.768277</td>\n",
       "    </tr>\n",
       "    <tr>\n",
       "      <th>2019-11-01 17:00</th>\n",
       "      <td>4.092786</td>\n",
       "    </tr>\n",
       "    <tr>\n",
       "      <th>2019-11-01 21:00</th>\n",
       "      <td>5.885342</td>\n",
       "    </tr>\n",
       "    <tr>\n",
       "      <th>2019-11-01 22:00</th>\n",
       "      <td>5.422017</td>\n",
       "    </tr>\n",
       "    <tr>\n",
       "      <th>2019-11-01 23:00</th>\n",
       "      <td>5.171326</td>\n",
       "    </tr>\n",
       "  </tbody>\n",
       "</table>\n",
       "</div>"
      ],
      "text/plain": [
       "                          0\n",
       "date                       \n",
       "2018-08-02 19:00   5.178950\n",
       "2018-08-02 20:00   4.609365\n",
       "2018-08-02 21:00   5.548715\n",
       "2019-07-14 01:00   4.024405\n",
       "2019-07-14 23:00   5.168368\n",
       "2019-07-15 13:00   5.271710\n",
       "2019-07-15 17:00   5.368477\n",
       "2019-07-15 20:00   4.107148\n",
       "2019-07-16 00:00   5.546830\n",
       "2019-07-16 14:00   4.184069\n",
       "2019-07-17 06:00   6.322044\n",
       "2019-07-18 22:00   4.732842\n",
       "2019-08-28 15:00   8.535017\n",
       "2019-08-28 16:00   5.157943\n",
       "2019-08-28 17:00   5.321045\n",
       "2019-08-28 18:00   5.872229\n",
       "2019-08-28 21:00   4.173326\n",
       "2019-08-28 22:00   5.562924\n",
       "2019-08-29 00:00   5.428486\n",
       "2019-08-29 01:00   5.202668\n",
       "2019-08-29 02:00   5.817041\n",
       "2019-08-29 06:00   5.370191\n",
       "2019-08-29 07:00   8.272230\n",
       "2019-08-29 08:00   8.855418\n",
       "2019-08-29 09:00   5.469772\n",
       "2019-08-29 10:00   5.416031\n",
       "2019-09-28 01:00   4.267720\n",
       "2019-09-28 03:00   5.012737\n",
       "2019-09-28 04:00   4.016776\n",
       "2019-09-28 05:00   4.727699\n",
       "2019-10-27 13:00   4.090085\n",
       "2019-10-27 23:00   4.158662\n",
       "2019-10-30 16:00   6.878718\n",
       "2019-10-30 17:00   5.911643\n",
       "2019-10-30 18:00   7.241539\n",
       "2019-10-30 19:00   5.950152\n",
       "2019-10-30 20:00   8.669027\n",
       "2019-10-30 21:00   7.943956\n",
       "2019-10-30 22:00  10.233586\n",
       "2019-10-30 23:00   9.357779\n",
       "2019-10-31 00:00   9.816336\n",
       "2019-10-31 01:00   6.340492\n",
       "2019-10-31 02:00   8.620112\n",
       "2019-10-31 03:00   5.969768\n",
       "2019-10-31 04:00   5.617034\n",
       "2019-11-01 00:00   4.537828\n",
       "2019-11-01 12:00   5.768277\n",
       "2019-11-01 17:00   4.092786\n",
       "2019-11-01 21:00   5.885342\n",
       "2019-11-01 22:00   5.422017\n",
       "2019-11-01 23:00   5.171326"
      ]
     },
     "execution_count": 14,
     "metadata": {},
     "output_type": "execute_result"
    }
   ],
   "source": [
    "anomaly_scores[anomaly_scores[0] > 4]"
   ]
  },
  {
   "cell_type": "code",
   "execution_count": null,
   "metadata": {},
   "outputs": [],
   "source": []
  }
 ],
 "metadata": {
  "kernelspec": {
   "display_name": "Python 3",
   "language": "python",
   "name": "python3"
  },
  "language_info": {
   "codemirror_mode": {
    "name": "ipython",
    "version": 3
   },
   "file_extension": ".py",
   "mimetype": "text/x-python",
   "name": "python",
   "nbconvert_exporter": "python",
   "pygments_lexer": "ipython3",
   "version": "3.7.6"
  }
 },
 "nbformat": 4,
 "nbformat_minor": 4
}
