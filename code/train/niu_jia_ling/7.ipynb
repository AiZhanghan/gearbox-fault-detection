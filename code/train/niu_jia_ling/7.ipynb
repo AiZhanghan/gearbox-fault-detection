{
 "cells": [
  {
   "cell_type": "code",
   "execution_count": 1,
   "metadata": {},
   "outputs": [
    {
     "name": "stderr",
     "output_type": "stream",
     "text": [
      "Using TensorFlow backend.\n",
      "D:\\Software\\Anaconda\\lib\\site-packages\\sklearn\\utils\\deprecation.py:143: FutureWarning: The sklearn.utils.testing module is  deprecated in version 0.22 and will be removed in version 0.24. The corresponding classes / functions should instead be imported from sklearn.utils. Anything that cannot be imported from sklearn.utils is now part of the private API.\n",
      "  warnings.warn(message, FutureWarning)\n"
     ]
    }
   ],
   "source": [
    "import os\n",
    "import sys\n",
    "sys.path.append(\"../../\")\n",
    "from imp import reload\n",
    "\n",
    "import Reader\n",
    "import toolkit\n",
    "import visualization\n",
    "# import GearboxFaultDetector\n",
    "import model_entry"
   ]
  },
  {
   "cell_type": "code",
   "execution_count": 2,
   "metadata": {},
   "outputs": [],
   "source": [
    "# reload(Reader)"
   ]
  },
  {
   "cell_type": "code",
   "execution_count": 3,
   "metadata": {},
   "outputs": [],
   "source": [
    "feature_path = r\"D:\\Workspace\\python_workspace\\gearbox-fault-detection\\local\\feature\\niu_jia_ling\"\n",
    "speed_path = r\"D:\\Workspace\\python_workspace\\gearbox-fault-detection\\local\\rotating_speed\\niu_jia_ling\"\n",
    "wind_turbine = \"7\"\n",
    "sensors = (\n",
    "    \"gearbox\",\n",
    "    \"low_speed_shaft\",\n",
    "    \"high_speed_shaft\",\n",
    ")"
   ]
  },
  {
   "cell_type": "code",
   "execution_count": 4,
   "metadata": {},
   "outputs": [
    {
     "name": "stdout",
     "output_type": "stream",
     "text": [
      "feature.shape: (3059, 75)\n",
      "speed.shape: (3059, 1)\n"
     ]
    }
   ],
   "source": [
    "reader = Reader.Reader()\n",
    "feature = reader.read_feature(os.path.join(feature_path, wind_turbine), sensors)\n",
    "speed = reader.read_speed(os.path.join(speed_path, wind_turbine), sensors)\n",
    "\n",
    "toolkit.print_shape(feature=feature, speed=speed)"
   ]
  },
  {
   "cell_type": "code",
   "execution_count": 5,
   "metadata": {},
   "outputs": [
    {
     "data": {
      "text/plain": [
       "array([[<AxesSubplot:title={'center':'speed'}>]], dtype=object)"
      ]
     },
     "execution_count": 5,
     "metadata": {},
     "output_type": "execute_result"
    },
    {
     "data": {
      "image/png": "[encoded data removed]",
      "text/plain": [
       "<Figure size 432x288 with 1 Axes>"
      ]
     },
     "metadata": {
      "needs_background": "light"
     },
     "output_type": "display_data"
    }
   ],
   "source": [
    "speed.hist(bins=128)"
   ]
  },
  {
   "cell_type": "code",
   "execution_count": 6,
   "metadata": {},
   "outputs": [
    {
     "name": "stdout",
     "output_type": "stream",
     "text": [
      "feature.shape: (2942, 75)\n",
      "speed.shape: (2942, 1)\n"
     ]
    },
    {
     "data": {
      "image/png": "[encoded data removed]",
      "text/plain": [
       "<Figure size 432x288 with 1 Axes>"
      ]
     },
     "metadata": {
      "needs_background": "light"
     },
     "output_type": "display_data"
    }
   ],
   "source": [
    "feature = feature[speed.speed >= 1000]\n",
    "speed = speed[speed.speed >= 1000]\n",
    "\n",
    "toolkit.print_shape(feature=feature, speed=speed)\n",
    "\n",
    "visualization.data_distribution(feature)"
   ]
  },
  {
   "cell_type": "code",
   "execution_count": 7,
   "metadata": {},
   "outputs": [
    {
     "name": "stdout",
     "output_type": "stream",
     "text": [
      "feature_train.shape: (1451, 75)\n",
      "speed_train.shape: (1451, 1)\n",
      "feature_test.shape: (1468, 75)\n",
      "speed_test.shape: (1468, 1)\n"
     ]
    }
   ],
   "source": [
    "# 划分train set, test set\n",
    "feature_train = feature[\"2018-05\": \"2019-04\"]\n",
    "speed_train = speed[\"2018-05\": \"2019-04\"]\n",
    "\n",
    "feature_test = feature[\"2019-06\": \"2019-10\"]\n",
    "speed_test = speed[\"2019-06\": \"2019-10\"]\n",
    "\n",
    "toolkit.print_shape(feature_train=feature_train, speed_train=speed_train, feature_test=feature_test, speed_test=speed_test)"
   ]
  },
  {
   "cell_type": "code",
   "execution_count": 8,
   "metadata": {},
   "outputs": [],
   "source": [
    "detector = model_entry.OutlierDetector()"
   ]
  },
  {
   "cell_type": "code",
   "execution_count": 9,
   "metadata": {
    "scrolled": true
   },
   "outputs": [
    {
     "name": "stdout",
     "output_type": "stream",
     "text": [
      "WARNING:tensorflow:From D:\\Software\\Anaconda\\lib\\site-packages\\keras\\backend\\tensorflow_backend.py:74: The name tf.get_default_graph is deprecated. Please use tf.compat.v1.get_default_graph instead.\n",
      "\n",
      "WARNING:tensorflow:From D:\\Software\\Anaconda\\lib\\site-packages\\keras\\backend\\tensorflow_backend.py:517: The name tf.placeholder is deprecated. Please use tf.compat.v1.placeholder instead.\n",
      "\n",
      "WARNING:tensorflow:From D:\\Software\\Anaconda\\lib\\site-packages\\keras\\backend\\tensorflow_backend.py:4138: The name tf.random_uniform is deprecated. Please use tf.random.uniform instead.\n",
      "\n",
      "WARNING:tensorflow:From D:\\Software\\Anaconda\\lib\\site-packages\\keras\\backend\\tensorflow_backend.py:133: The name tf.placeholder_with_default is deprecated. Please use tf.compat.v1.placeholder_with_default instead.\n",
      "\n",
      "WARNING:tensorflow:From D:\\Software\\Anaconda\\lib\\site-packages\\keras\\backend\\tensorflow_backend.py:3445: calling dropout (from tensorflow.python.ops.nn_ops) with keep_prob is deprecated and will be removed in a future version.\n",
      "Instructions for updating:\n",
      "Please use `rate` instead of `keep_prob`. Rate should be set to `rate = 1 - keep_prob`.\n",
      "WARNING:tensorflow:From D:\\Software\\Anaconda\\lib\\site-packages\\keras\\optimizers.py:790: The name tf.train.Optimizer is deprecated. Please use tf.compat.v1.train.Optimizer instead.\n",
      "\n",
      "WARNING:tensorflow:From D:\\Software\\Anaconda\\lib\\site-packages\\keras\\backend\\tensorflow_backend.py:986: The name tf.assign_add is deprecated. Please use tf.compat.v1.assign_add instead.\n",
      "\n",
      "WARNING:tensorflow:From D:\\Software\\Anaconda\\lib\\site-packages\\keras\\backend\\tensorflow_backend.py:973: The name tf.assign is deprecated. Please use tf.compat.v1.assign instead.\n",
      "\n",
      "WARNING:tensorflow:From D:\\Software\\Anaconda\\lib\\site-packages\\keras\\backend\\tensorflow_backend.py:2741: The name tf.Session is deprecated. Please use tf.compat.v1.Session instead.\n",
      "\n",
      "WARNING:tensorflow:From D:\\Software\\Anaconda\\lib\\site-packages\\keras\\backend\\tensorflow_backend.py:174: The name tf.get_default_session is deprecated. Please use tf.compat.v1.get_default_session instead.\n",
      "\n",
      "WARNING:tensorflow:From D:\\Software\\Anaconda\\lib\\site-packages\\keras\\backend\\tensorflow_backend.py:181: The name tf.ConfigProto is deprecated. Please use tf.compat.v1.ConfigProto instead.\n",
      "\n",
      "WARNING:tensorflow:From D:\\Software\\Anaconda\\lib\\site-packages\\keras\\backend\\tensorflow_backend.py:190: The name tf.global_variables is deprecated. Please use tf.compat.v1.global_variables instead.\n",
      "\n",
      "WARNING:tensorflow:From D:\\Software\\Anaconda\\lib\\site-packages\\keras\\backend\\tensorflow_backend.py:199: The name tf.is_variable_initialized is deprecated. Please use tf.compat.v1.is_variable_initialized instead.\n",
      "\n",
      "WARNING:tensorflow:From D:\\Software\\Anaconda\\lib\\site-packages\\keras\\backend\\tensorflow_backend.py:206: The name tf.variables_initializer is deprecated. Please use tf.compat.v1.variables_initializer instead.\n",
      "\n"
     ]
    }
   ],
   "source": [
    "detector.fit(feature_train)"
   ]
  },
  {
   "cell_type": "code",
   "execution_count": 10,
   "metadata": {},
   "outputs": [
    {
     "data": {
      "text/plain": [
       "<AxesSubplot:xlabel='date'>"
      ]
     },
     "execution_count": 10,
     "metadata": {},
     "output_type": "execute_result"
    },
    {
     "data": {
      "image/png": "[encoded data removed]",
      "text/plain": [
       "<Figure size 432x288 with 1 Axes>"
      ]
     },
     "metadata": {
      "needs_background": "light"
     },
     "output_type": "display_data"
    }
   ],
   "source": [
    "detector.decision_scores.plot()"
   ]
  },
  {
   "cell_type": "code",
   "execution_count": 11,
   "metadata": {},
   "outputs": [],
   "source": [
    "anomaly_scores = detector.decision_function(feature_test)"
   ]
  },
  {
   "cell_type": "code",
   "execution_count": 12,
   "metadata": {},
   "outputs": [
    {
     "data": {
      "text/plain": [
       "<AxesSubplot:xlabel='date'>"
      ]
     },
     "execution_count": 12,
     "metadata": {},
     "output_type": "execute_result"
    },
    {
     "data": {
      "image/png": "[encoded data removed]",
      "text/plain": [
       "<Figure size 432x288 with 1 Axes>"
      ]
     },
     "metadata": {
      "needs_background": "light"
     },
     "output_type": "display_data"
    }
   ],
   "source": [
    "anomaly_scores.plot()"
   ]
  },
  {
   "cell_type": "code",
   "execution_count": 13,
   "metadata": {
    "scrolled": true
   },
   "outputs": [
    {
     "data": {
      "text/html": [
       "<div>\n",
       "<style scoped>\n",
       "    .dataframe tbody tr th:only-of-type {\n",
       "        vertical-align: middle;\n",
       "    }\n",
       "\n",
       "    .dataframe tbody tr th {\n",
       "        vertical-align: top;\n",
       "    }\n",
       "\n",
       "    .dataframe thead th {\n",
       "        text-align: right;\n",
       "    }\n",
       "</style>\n",
       "<table border=\"1\" class=\"dataframe\">\n",
       "  <thead>\n",
       "    <tr style=\"text-align: right;\">\n",
       "      <th></th>\n",
       "      <th>0</th>\n",
       "    </tr>\n",
       "    <tr>\n",
       "      <th>date</th>\n",
       "      <th></th>\n",
       "    </tr>\n",
       "  </thead>\n",
       "  <tbody>\n",
       "    <tr>\n",
       "      <th>2019-07-14 00:00</th>\n",
       "      <td>4.562743</td>\n",
       "    </tr>\n",
       "    <tr>\n",
       "      <th>2019-07-14 01:00</th>\n",
       "      <td>5.030746</td>\n",
       "    </tr>\n",
       "    <tr>\n",
       "      <th>2019-07-14 23:00</th>\n",
       "      <td>6.288855</td>\n",
       "    </tr>\n",
       "    <tr>\n",
       "      <th>2019-07-15 13:00</th>\n",
       "      <td>6.320993</td>\n",
       "    </tr>\n",
       "    <tr>\n",
       "      <th>2019-07-15 17:00</th>\n",
       "      <td>6.767401</td>\n",
       "    </tr>\n",
       "    <tr>\n",
       "      <th>2019-07-15 20:00</th>\n",
       "      <td>4.852798</td>\n",
       "    </tr>\n",
       "    <tr>\n",
       "      <th>2019-07-15 23:00</th>\n",
       "      <td>5.353141</td>\n",
       "    </tr>\n",
       "    <tr>\n",
       "      <th>2019-07-16 00:00</th>\n",
       "      <td>6.831265</td>\n",
       "    </tr>\n",
       "    <tr>\n",
       "      <th>2019-07-16 14:00</th>\n",
       "      <td>5.031022</td>\n",
       "    </tr>\n",
       "    <tr>\n",
       "      <th>2019-07-17 06:00</th>\n",
       "      <td>8.835780</td>\n",
       "    </tr>\n",
       "    <tr>\n",
       "      <th>2019-07-18 22:00</th>\n",
       "      <td>6.161400</td>\n",
       "    </tr>\n",
       "    <tr>\n",
       "      <th>2019-08-28 14:00</th>\n",
       "      <td>4.219713</td>\n",
       "    </tr>\n",
       "    <tr>\n",
       "      <th>2019-08-28 15:00</th>\n",
       "      <td>10.468964</td>\n",
       "    </tr>\n",
       "    <tr>\n",
       "      <th>2019-08-28 16:00</th>\n",
       "      <td>6.204975</td>\n",
       "    </tr>\n",
       "    <tr>\n",
       "      <th>2019-08-28 17:00</th>\n",
       "      <td>6.535693</td>\n",
       "    </tr>\n",
       "    <tr>\n",
       "      <th>2019-08-28 18:00</th>\n",
       "      <td>7.339924</td>\n",
       "    </tr>\n",
       "    <tr>\n",
       "      <th>2019-08-28 21:00</th>\n",
       "      <td>5.168058</td>\n",
       "    </tr>\n",
       "    <tr>\n",
       "      <th>2019-08-28 22:00</th>\n",
       "      <td>6.800824</td>\n",
       "    </tr>\n",
       "    <tr>\n",
       "      <th>2019-08-29 00:00</th>\n",
       "      <td>6.801927</td>\n",
       "    </tr>\n",
       "    <tr>\n",
       "      <th>2019-08-29 01:00</th>\n",
       "      <td>6.299491</td>\n",
       "    </tr>\n",
       "    <tr>\n",
       "      <th>2019-08-29 02:00</th>\n",
       "      <td>7.228284</td>\n",
       "    </tr>\n",
       "    <tr>\n",
       "      <th>2019-08-29 03:00</th>\n",
       "      <td>4.558816</td>\n",
       "    </tr>\n",
       "    <tr>\n",
       "      <th>2019-08-29 06:00</th>\n",
       "      <td>6.478520</td>\n",
       "    </tr>\n",
       "    <tr>\n",
       "      <th>2019-08-29 07:00</th>\n",
       "      <td>10.820999</td>\n",
       "    </tr>\n",
       "    <tr>\n",
       "      <th>2019-08-29 08:00</th>\n",
       "      <td>11.168744</td>\n",
       "    </tr>\n",
       "    <tr>\n",
       "      <th>2019-08-29 09:00</th>\n",
       "      <td>6.761085</td>\n",
       "    </tr>\n",
       "    <tr>\n",
       "      <th>2019-08-29 10:00</th>\n",
       "      <td>6.577241</td>\n",
       "    </tr>\n",
       "    <tr>\n",
       "      <th>2019-08-29 11:00</th>\n",
       "      <td>4.165694</td>\n",
       "    </tr>\n",
       "    <tr>\n",
       "      <th>2019-09-28 01:00</th>\n",
       "      <td>5.246041</td>\n",
       "    </tr>\n",
       "    <tr>\n",
       "      <th>2019-09-28 02:00</th>\n",
       "      <td>4.705334</td>\n",
       "    </tr>\n",
       "    <tr>\n",
       "      <th>2019-09-28 03:00</th>\n",
       "      <td>6.004394</td>\n",
       "    </tr>\n",
       "    <tr>\n",
       "      <th>2019-09-28 04:00</th>\n",
       "      <td>4.684068</td>\n",
       "    </tr>\n",
       "    <tr>\n",
       "      <th>2019-09-28 05:00</th>\n",
       "      <td>5.652558</td>\n",
       "    </tr>\n",
       "    <tr>\n",
       "      <th>2019-10-27 09:00</th>\n",
       "      <td>4.170857</td>\n",
       "    </tr>\n",
       "    <tr>\n",
       "      <th>2019-10-27 13:00</th>\n",
       "      <td>5.002465</td>\n",
       "    </tr>\n",
       "    <tr>\n",
       "      <th>2019-10-27 23:00</th>\n",
       "      <td>5.097558</td>\n",
       "    </tr>\n",
       "    <tr>\n",
       "      <th>2019-10-28 01:00</th>\n",
       "      <td>4.728440</td>\n",
       "    </tr>\n",
       "    <tr>\n",
       "      <th>2019-10-30 16:00</th>\n",
       "      <td>8.633608</td>\n",
       "    </tr>\n",
       "    <tr>\n",
       "      <th>2019-10-30 17:00</th>\n",
       "      <td>7.222172</td>\n",
       "    </tr>\n",
       "    <tr>\n",
       "      <th>2019-10-30 18:00</th>\n",
       "      <td>9.232860</td>\n",
       "    </tr>\n",
       "    <tr>\n",
       "      <th>2019-10-30 19:00</th>\n",
       "      <td>7.006684</td>\n",
       "    </tr>\n",
       "    <tr>\n",
       "      <th>2019-10-30 20:00</th>\n",
       "      <td>10.665353</td>\n",
       "    </tr>\n",
       "    <tr>\n",
       "      <th>2019-10-30 21:00</th>\n",
       "      <td>10.019758</td>\n",
       "    </tr>\n",
       "    <tr>\n",
       "      <th>2019-10-30 22:00</th>\n",
       "      <td>13.225840</td>\n",
       "    </tr>\n",
       "    <tr>\n",
       "      <th>2019-10-30 23:00</th>\n",
       "      <td>11.664470</td>\n",
       "    </tr>\n",
       "    <tr>\n",
       "      <th>2019-10-31 00:00</th>\n",
       "      <td>12.330570</td>\n",
       "    </tr>\n",
       "    <tr>\n",
       "      <th>2019-10-31 01:00</th>\n",
       "      <td>7.687806</td>\n",
       "    </tr>\n",
       "    <tr>\n",
       "      <th>2019-10-31 02:00</th>\n",
       "      <td>11.092045</td>\n",
       "    </tr>\n",
       "    <tr>\n",
       "      <th>2019-10-31 03:00</th>\n",
       "      <td>7.127490</td>\n",
       "    </tr>\n",
       "    <tr>\n",
       "      <th>2019-10-31 04:00</th>\n",
       "      <td>6.713914</td>\n",
       "    </tr>\n",
       "  </tbody>\n",
       "</table>\n",
       "</div>"
      ],
      "text/plain": [
       "                          0\n",
       "date                       \n",
       "2019-07-14 00:00   4.562743\n",
       "2019-07-14 01:00   5.030746\n",
       "2019-07-14 23:00   6.288855\n",
       "2019-07-15 13:00   6.320993\n",
       "2019-07-15 17:00   6.767401\n",
       "2019-07-15 20:00   4.852798\n",
       "2019-07-15 23:00   5.353141\n",
       "2019-07-16 00:00   6.831265\n",
       "2019-07-16 14:00   5.031022\n",
       "2019-07-17 06:00   8.835780\n",
       "2019-07-18 22:00   6.161400\n",
       "2019-08-28 14:00   4.219713\n",
       "2019-08-28 15:00  10.468964\n",
       "2019-08-28 16:00   6.204975\n",
       "2019-08-28 17:00   6.535693\n",
       "2019-08-28 18:00   7.339924\n",
       "2019-08-28 21:00   5.168058\n",
       "2019-08-28 22:00   6.800824\n",
       "2019-08-29 00:00   6.801927\n",
       "2019-08-29 01:00   6.299491\n",
       "2019-08-29 02:00   7.228284\n",
       "2019-08-29 03:00   4.558816\n",
       "2019-08-29 06:00   6.478520\n",
       "2019-08-29 07:00  10.820999\n",
       "2019-08-29 08:00  11.168744\n",
       "2019-08-29 09:00   6.761085\n",
       "2019-08-29 10:00   6.577241\n",
       "2019-08-29 11:00   4.165694\n",
       "2019-09-28 01:00   5.246041\n",
       "2019-09-28 02:00   4.705334\n",
       "2019-09-28 03:00   6.004394\n",
       "2019-09-28 04:00   4.684068\n",
       "2019-09-28 05:00   5.652558\n",
       "2019-10-27 09:00   4.170857\n",
       "2019-10-27 13:00   5.002465\n",
       "2019-10-27 23:00   5.097558\n",
       "2019-10-28 01:00   4.728440\n",
       "2019-10-30 16:00   8.633608\n",
       "2019-10-30 17:00   7.222172\n",
       "2019-10-30 18:00   9.232860\n",
       "2019-10-30 19:00   7.006684\n",
       "2019-10-30 20:00  10.665353\n",
       "2019-10-30 21:00  10.019758\n",
       "2019-10-30 22:00  13.225840\n",
       "2019-10-30 23:00  11.664470\n",
       "2019-10-31 00:00  12.330570\n",
       "2019-10-31 01:00   7.687806\n",
       "2019-10-31 02:00  11.092045\n",
       "2019-10-31 03:00   7.127490\n",
       "2019-10-31 04:00   6.713914"
      ]
     },
     "execution_count": 13,
     "metadata": {},
     "output_type": "execute_result"
    }
   ],
   "source": [
    "anomaly_scores[anomaly_scores[0] >= 4]"
   ]
  },
  {
   "cell_type": "code",
   "execution_count": 16,
   "metadata": {
    "scrolled": true
   },
   "outputs": [
    {
     "data": {
      "text/plain": [
       "array([[<AxesSubplot:title={'center':'speed'}>]], dtype=object)"
      ]
     },
     "execution_count": 16,
     "metadata": {},
     "output_type": "execute_result"
    },
    {
     "data": {
      "image/png": "[encoded data removed]",
      "text/plain": [
       "<Figure size 432x288 with 1 Axes>"
      ]
     },
     "metadata": {
      "needs_background": "light"
     },
     "output_type": "display_data"
    }
   ],
   "source": [
    "speed_test[speed_test.index.isin(anomaly_scores[anomaly_scores[0] >= 4].index)].hist()"
   ]
  },
  {
   "cell_type": "code",
   "execution_count": 15,
   "metadata": {},
   "outputs": [
    {
     "data": {
      "text/plain": [
       "(50, 1)"
      ]
     },
     "execution_count": 15,
     "metadata": {},
     "output_type": "execute_result"
    }
   ],
   "source": [
    "anomaly_scores[anomaly_scores[0] >= 4].shape"
   ]
  },
  {
   "cell_type": "code",
   "execution_count": null,
   "metadata": {},
   "outputs": [],
   "source": []
  }
 ],
 "metadata": {
  "kernelspec": {
   "display_name": "Python 3",
   "language": "python",
   "name": "python3"
  },
  "language_info": {
   "codemirror_mode": {
    "name": "ipython",
    "version": 3
   },
   "file_extension": ".py",
   "mimetype": "text/x-python",
   "name": "python",
   "nbconvert_exporter": "python",
   "pygments_lexer": "ipython3",
   "version": "3.7.6"
  }
 },
 "nbformat": 4,
 "nbformat_minor": 4
}
