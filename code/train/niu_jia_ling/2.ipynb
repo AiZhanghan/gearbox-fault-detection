{
 "cells": [
  {
   "cell_type": "code",
   "execution_count": 1,
   "metadata": {},
   "outputs": [
    {
     "name": "stderr",
     "output_type": "stream",
     "text": [
      "Using TensorFlow backend.\n",
      "D:\\Software\\Anaconda\\lib\\site-packages\\sklearn\\utils\\deprecation.py:143: FutureWarning: The sklearn.utils.testing module is  deprecated in version 0.22 and will be removed in version 0.24. The corresponding classes / functions should instead be imported from sklearn.utils. Anything that cannot be imported from sklearn.utils is now part of the private API.\n",
      "  warnings.warn(message, FutureWarning)\n"
     ]
    }
   ],
   "source": [
    "import os\n",
    "import sys\n",
    "sys.path.append(\"../../\")\n",
    "from imp import reload\n",
    "\n",
    "import Reader\n",
    "import toolkit\n",
    "import visualization\n",
    "# import GearboxFaultDetector\n",
    "import model_entry"
   ]
  },
  {
   "cell_type": "code",
   "execution_count": 2,
   "metadata": {},
   "outputs": [],
   "source": [
    "# reload(Reader)"
   ]
  },
  {
   "cell_type": "code",
   "execution_count": 3,
   "metadata": {},
   "outputs": [],
   "source": [
    "feature_path = r\"D:\\Workspace\\python_workspace\\gearbox-fault-detection\\local\\feature\\niu_jia_ling\"\n",
    "speed_path = r\"D:\\Workspace\\python_workspace\\gearbox-fault-detection\\local\\rotating_speed\\niu_jia_ling\"\n",
    "wind_turbine = \"2\"\n",
    "sensors = (\n",
    "    \"gearbox\",\n",
    "    \"low_speed_shaft\",\n",
    "    \"high_speed_shaft\",\n",
    ")"
   ]
  },
  {
   "cell_type": "code",
   "execution_count": 4,
   "metadata": {},
   "outputs": [
    {
     "name": "stdout",
     "output_type": "stream",
     "text": [
      "feature.shape: (4257, 75)\n",
      "speed.shape: (4257, 1)\n"
     ]
    }
   ],
   "source": [
    "reader = Reader.Reader()\n",
    "feature = reader.read_feature(os.path.join(feature_path, wind_turbine), sensors)\n",
    "speed = reader.read_speed(os.path.join(speed_path, wind_turbine), sensors)\n",
    "\n",
    "toolkit.print_shape(feature=feature, speed=speed)"
   ]
  },
  {
   "cell_type": "code",
   "execution_count": 5,
   "metadata": {},
   "outputs": [
    {
     "data": {
      "text/plain": [
       "array([[<AxesSubplot:title={'center':'speed'}>]], dtype=object)"
      ]
     },
     "execution_count": 5,
     "metadata": {},
     "output_type": "execute_result"
    },
    {
     "data": {
      "image/png": "[encoded data removed]",
      "text/plain": [
       "<Figure size 432x288 with 1 Axes>"
      ]
     },
     "metadata": {
      "needs_background": "light"
     },
     "output_type": "display_data"
    }
   ],
   "source": [
    "speed.hist(bins=128)"
   ]
  },
  {
   "cell_type": "code",
   "execution_count": 6,
   "metadata": {},
   "outputs": [
    {
     "name": "stdout",
     "output_type": "stream",
     "text": [
      "feature.shape: (4173, 75)\n",
      "speed.shape: (4173, 1)\n"
     ]
    },
    {
     "data": {
      "image/png": "[encoded data removed]",
      "text/plain": [
       "<Figure size 432x288 with 1 Axes>"
      ]
     },
     "metadata": {
      "needs_background": "light"
     },
     "output_type": "display_data"
    }
   ],
   "source": [
    "speed_threshold = 250\n",
    "feature = feature[speed.speed >= speed_threshold]\n",
    "speed = speed[speed.speed >= speed_threshold]\n",
    "\n",
    "toolkit.print_shape(feature=feature, speed=speed)\n",
    "\n",
    "visualization.data_distribution(feature)"
   ]
  },
  {
   "cell_type": "code",
   "execution_count": 7,
   "metadata": {},
   "outputs": [
    {
     "name": "stdout",
     "output_type": "stream",
     "text": [
      "feature_train.shape: (2911, 75)\n",
      "speed_train.shape: (2911, 1)\n",
      "feature_test.shape: (1262, 75)\n",
      "speed_test.shape: (1262, 1)\n"
     ]
    }
   ],
   "source": [
    "# 划分train set, test set\n",
    "train_start = \"2018-05\"\n",
    "train_end = \"2019-05\"\n",
    "\n",
    "test_start = \"2019-06\"\n",
    "test_end = \"2019\"\n",
    "\n",
    "feature_train = feature[train_start: train_end]\n",
    "speed_train = speed[train_start: train_end]\n",
    "\n",
    "feature_test = feature[test_start: test_end]\n",
    "speed_test = speed[test_start: test_end]\n",
    "\n",
    "toolkit.print_shape(feature_train=feature_train, speed_train=speed_train, feature_test=feature_test, speed_test=speed_test)"
   ]
  },
  {
   "cell_type": "code",
   "execution_count": 8,
   "metadata": {},
   "outputs": [],
   "source": [
    "feature_test = feature\n",
    "speed_test = speed"
   ]
  },
  {
   "cell_type": "code",
   "execution_count": 9,
   "metadata": {},
   "outputs": [],
   "source": [
    "detector = model_entry.OutlierDetector()"
   ]
  },
  {
   "cell_type": "code",
   "execution_count": 10,
   "metadata": {
    "scrolled": true
   },
   "outputs": [
    {
     "name": "stdout",
     "output_type": "stream",
     "text": [
      "WARNING:tensorflow:From D:\\Software\\Anaconda\\lib\\site-packages\\keras\\backend\\tensorflow_backend.py:74: The name tf.get_default_graph is deprecated. Please use tf.compat.v1.get_default_graph instead.\n",
      "\n",
      "WARNING:tensorflow:From D:\\Software\\Anaconda\\lib\\site-packages\\keras\\backend\\tensorflow_backend.py:517: The name tf.placeholder is deprecated. Please use tf.compat.v1.placeholder instead.\n",
      "\n",
      "WARNING:tensorflow:From D:\\Software\\Anaconda\\lib\\site-packages\\keras\\backend\\tensorflow_backend.py:4138: The name tf.random_uniform is deprecated. Please use tf.random.uniform instead.\n",
      "\n",
      "WARNING:tensorflow:From D:\\Software\\Anaconda\\lib\\site-packages\\keras\\backend\\tensorflow_backend.py:133: The name tf.placeholder_with_default is deprecated. Please use tf.compat.v1.placeholder_with_default instead.\n",
      "\n",
      "WARNING:tensorflow:From D:\\Software\\Anaconda\\lib\\site-packages\\keras\\backend\\tensorflow_backend.py:3445: calling dropout (from tensorflow.python.ops.nn_ops) with keep_prob is deprecated and will be removed in a future version.\n",
      "Instructions for updating:\n",
      "Please use `rate` instead of `keep_prob`. Rate should be set to `rate = 1 - keep_prob`.\n",
      "WARNING:tensorflow:From D:\\Software\\Anaconda\\lib\\site-packages\\keras\\optimizers.py:790: The name tf.train.Optimizer is deprecated. Please use tf.compat.v1.train.Optimizer instead.\n",
      "\n",
      "WARNING:tensorflow:From D:\\Software\\Anaconda\\lib\\site-packages\\keras\\backend\\tensorflow_backend.py:986: The name tf.assign_add is deprecated. Please use tf.compat.v1.assign_add instead.\n",
      "\n",
      "WARNING:tensorflow:From D:\\Software\\Anaconda\\lib\\site-packages\\keras\\backend\\tensorflow_backend.py:973: The name tf.assign is deprecated. Please use tf.compat.v1.assign instead.\n",
      "\n",
      "WARNING:tensorflow:From D:\\Software\\Anaconda\\lib\\site-packages\\keras\\backend\\tensorflow_backend.py:2741: The name tf.Session is deprecated. Please use tf.compat.v1.Session instead.\n",
      "\n",
      "WARNING:tensorflow:From D:\\Software\\Anaconda\\lib\\site-packages\\keras\\backend\\tensorflow_backend.py:174: The name tf.get_default_session is deprecated. Please use tf.compat.v1.get_default_session instead.\n",
      "\n",
      "WARNING:tensorflow:From D:\\Software\\Anaconda\\lib\\site-packages\\keras\\backend\\tensorflow_backend.py:181: The name tf.ConfigProto is deprecated. Please use tf.compat.v1.ConfigProto instead.\n",
      "\n",
      "WARNING:tensorflow:From D:\\Software\\Anaconda\\lib\\site-packages\\keras\\backend\\tensorflow_backend.py:190: The name tf.global_variables is deprecated. Please use tf.compat.v1.global_variables instead.\n",
      "\n",
      "WARNING:tensorflow:From D:\\Software\\Anaconda\\lib\\site-packages\\keras\\backend\\tensorflow_backend.py:199: The name tf.is_variable_initialized is deprecated. Please use tf.compat.v1.is_variable_initialized instead.\n",
      "\n",
      "WARNING:tensorflow:From D:\\Software\\Anaconda\\lib\\site-packages\\keras\\backend\\tensorflow_backend.py:206: The name tf.variables_initializer is deprecated. Please use tf.compat.v1.variables_initializer instead.\n",
      "\n"
     ]
    }
   ],
   "source": [
    "detector.fit(feature_train)"
   ]
  },
  {
   "cell_type": "code",
   "execution_count": 11,
   "metadata": {},
   "outputs": [
    {
     "data": {
      "text/plain": [
       "<AxesSubplot:xlabel='date'>"
      ]
     },
     "execution_count": 11,
     "metadata": {},
     "output_type": "execute_result"
    },
    {
     "data": {
      "image/png": "[encoded data removed]",
      "text/plain": [
       "<Figure size 432x288 with 1 Axes>"
      ]
     },
     "metadata": {
      "needs_background": "light"
     },
     "output_type": "display_data"
    }
   ],
   "source": [
    "detector.decision_scores.plot()"
   ]
  },
  {
   "cell_type": "code",
   "execution_count": 12,
   "metadata": {},
   "outputs": [],
   "source": [
    "anomaly_scores = detector.decision_function(feature_test)"
   ]
  },
  {
   "cell_type": "code",
   "execution_count": 13,
   "metadata": {},
   "outputs": [
    {
     "data": {
      "text/plain": [
       "<AxesSubplot:xlabel='date'>"
      ]
     },
     "execution_count": 13,
     "metadata": {},
     "output_type": "execute_result"
    },
    {
     "data": {
      "image/png": "[encoded data removed]",
      "text/plain": [
       "<Figure size 432x288 with 1 Axes>"
      ]
     },
     "metadata": {
      "needs_background": "light"
     },
     "output_type": "display_data"
    }
   ],
   "source": [
    "anomaly_scores.plot()"
   ]
  },
  {
   "cell_type": "code",
   "execution_count": 14,
   "metadata": {},
   "outputs": [
    {
     "data": {
      "text/html": [
       "<div>\n",
       "<style scoped>\n",
       "    .dataframe tbody tr th:only-of-type {\n",
       "        vertical-align: middle;\n",
       "    }\n",
       "\n",
       "    .dataframe tbody tr th {\n",
       "        vertical-align: top;\n",
       "    }\n",
       "\n",
       "    .dataframe thead th {\n",
       "        text-align: right;\n",
       "    }\n",
       "</style>\n",
       "<table border=\"1\" class=\"dataframe\">\n",
       "  <thead>\n",
       "    <tr style=\"text-align: right;\">\n",
       "      <th></th>\n",
       "      <th>0</th>\n",
       "    </tr>\n",
       "    <tr>\n",
       "      <th>date</th>\n",
       "      <th></th>\n",
       "    </tr>\n",
       "  </thead>\n",
       "  <tbody>\n",
       "    <tr>\n",
       "      <th>2018-05-15 09:00</th>\n",
       "      <td>4.300752</td>\n",
       "    </tr>\n",
       "    <tr>\n",
       "      <th>2018-07-05 16:00</th>\n",
       "      <td>6.021839</td>\n",
       "    </tr>\n",
       "    <tr>\n",
       "      <th>2018-10-25 10:00</th>\n",
       "      <td>8.151361</td>\n",
       "    </tr>\n",
       "    <tr>\n",
       "      <th>2018-10-25 11:00</th>\n",
       "      <td>5.241339</td>\n",
       "    </tr>\n",
       "    <tr>\n",
       "      <th>2018-10-25 12:00</th>\n",
       "      <td>7.558701</td>\n",
       "    </tr>\n",
       "    <tr>\n",
       "      <th>2018-10-25 13:00</th>\n",
       "      <td>7.067437</td>\n",
       "    </tr>\n",
       "    <tr>\n",
       "      <th>2018-10-25 14:00</th>\n",
       "      <td>5.580601</td>\n",
       "    </tr>\n",
       "    <tr>\n",
       "      <th>2018-10-25 15:00</th>\n",
       "      <td>7.135786</td>\n",
       "    </tr>\n",
       "    <tr>\n",
       "      <th>2018-10-25 16:00</th>\n",
       "      <td>7.204618</td>\n",
       "    </tr>\n",
       "    <tr>\n",
       "      <th>2018-10-25 17:00</th>\n",
       "      <td>4.257176</td>\n",
       "    </tr>\n",
       "    <tr>\n",
       "      <th>2018-10-25 18:00</th>\n",
       "      <td>6.140229</td>\n",
       "    </tr>\n",
       "    <tr>\n",
       "      <th>2018-10-25 19:00</th>\n",
       "      <td>4.700079</td>\n",
       "    </tr>\n",
       "    <tr>\n",
       "      <th>2018-10-25 22:00</th>\n",
       "      <td>5.630520</td>\n",
       "    </tr>\n",
       "    <tr>\n",
       "      <th>2018-10-25 23:00</th>\n",
       "      <td>7.080401</td>\n",
       "    </tr>\n",
       "    <tr>\n",
       "      <th>2018-10-26 00:00</th>\n",
       "      <td>7.231737</td>\n",
       "    </tr>\n",
       "    <tr>\n",
       "      <th>2018-10-26 01:00</th>\n",
       "      <td>7.675095</td>\n",
       "    </tr>\n",
       "    <tr>\n",
       "      <th>2018-10-26 02:00</th>\n",
       "      <td>8.811420</td>\n",
       "    </tr>\n",
       "    <tr>\n",
       "      <th>2019-02-26 08:00</th>\n",
       "      <td>5.118727</td>\n",
       "    </tr>\n",
       "    <tr>\n",
       "      <th>2019-03-08 16:00</th>\n",
       "      <td>4.481953</td>\n",
       "    </tr>\n",
       "    <tr>\n",
       "      <th>2019-03-21 11:00</th>\n",
       "      <td>6.002384</td>\n",
       "    </tr>\n",
       "    <tr>\n",
       "      <th>2019-04-03 11:00</th>\n",
       "      <td>5.168747</td>\n",
       "    </tr>\n",
       "    <tr>\n",
       "      <th>2019-04-03 12:00</th>\n",
       "      <td>5.127586</td>\n",
       "    </tr>\n",
       "    <tr>\n",
       "      <th>2019-06-11 11:00</th>\n",
       "      <td>7.457758</td>\n",
       "    </tr>\n",
       "    <tr>\n",
       "      <th>2019-06-17 03:00</th>\n",
       "      <td>5.681636</td>\n",
       "    </tr>\n",
       "  </tbody>\n",
       "</table>\n",
       "</div>"
      ],
      "text/plain": [
       "                         0\n",
       "date                      \n",
       "2018-05-15 09:00  4.300752\n",
       "2018-07-05 16:00  6.021839\n",
       "2018-10-25 10:00  8.151361\n",
       "2018-10-25 11:00  5.241339\n",
       "2018-10-25 12:00  7.558701\n",
       "2018-10-25 13:00  7.067437\n",
       "2018-10-25 14:00  5.580601\n",
       "2018-10-25 15:00  7.135786\n",
       "2018-10-25 16:00  7.204618\n",
       "2018-10-25 17:00  4.257176\n",
       "2018-10-25 18:00  6.140229\n",
       "2018-10-25 19:00  4.700079\n",
       "2018-10-25 22:00  5.630520\n",
       "2018-10-25 23:00  7.080401\n",
       "2018-10-26 00:00  7.231737\n",
       "2018-10-26 01:00  7.675095\n",
       "2018-10-26 02:00  8.811420\n",
       "2019-02-26 08:00  5.118727\n",
       "2019-03-08 16:00  4.481953\n",
       "2019-03-21 11:00  6.002384\n",
       "2019-04-03 11:00  5.168747\n",
       "2019-04-03 12:00  5.127586\n",
       "2019-06-11 11:00  7.457758\n",
       "2019-06-17 03:00  5.681636"
      ]
     },
     "execution_count": 14,
     "metadata": {},
     "output_type": "execute_result"
    }
   ],
   "source": [
    "anomaly_scores[anomaly_scores[0] > 4]"
   ]
  },
  {
   "cell_type": "code",
   "execution_count": null,
   "metadata": {},
   "outputs": [],
   "source": []
  }
 ],
 "metadata": {
  "kernelspec": {
   "display_name": "Python 3",
   "language": "python",
   "name": "python3"
  },
  "language_info": {
   "codemirror_mode": {
    "name": "ipython",
    "version": 3
   },
   "file_extension": ".py",
   "mimetype": "text/x-python",
   "name": "python",
   "nbconvert_exporter": "python",
   "pygments_lexer": "ipython3",
   "version": "3.7.6"
  }
 },
 "nbformat": 4,
 "nbformat_minor": 4
}
