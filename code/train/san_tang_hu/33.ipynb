{
 "cells": [
  {
   "cell_type": "markdown",
   "metadata": {},
   "source": [
    "1. 2018-05-04 04:05:00: 上机处理齿轮箱出口压力高报警时发现油泵滤芯含有铁粉，经检查确认为齿轮箱二级小后轴承磨损，该机组在2017年4月22日因SKF轴承严重磨损已更换过齿轮箱，并要求新齿轮箱使用FAG轴承。截止5月4日现场已巡检齿轮箱67台，合计发现5台SKF轴承，因现场39台机组处于500h试运行考核期，现场计划在试运行结束后处理，目前临时措施更换油泵滤芯。\n",
    "1. 2018-05-04 09:05:00: 查阅监控数据，发现故障发生时，齿轮箱入口油压力未0.3bar，出口油压力为14.8bar,上机组检查，上机组检查，滤芯含有大量杂质及少量铁粉，检查齿轮箱发现齿轮箱二级小后轴承磨损。更换滤芯后故障消除。\n",
    "1. 2018-05-13 05:05:00: 机组报机舱加速度极限故障停机，上机组对加速度传感器及线路检查，无异常;检查齿轮箱,发现齿轮箱二级小后轴承轴承保持架损坏;检查齿轮箱弹性支撑，发现左右个一个弹性支承脚垫出现裂纹损坏。重齿厂家给出方案，先更换二级小后轴承，如不能更换，再进行下塔处理。"
   ]
  },
  {
   "cell_type": "code",
   "execution_count": 1,
   "metadata": {
    "scrolled": true
   },
   "outputs": [
    {
     "name": "stderr",
     "output_type": "stream",
     "text": [
      "Using TensorFlow backend.\n",
      "D:\\Software\\Anaconda\\lib\\site-packages\\sklearn\\utils\\deprecation.py:143: FutureWarning: The sklearn.utils.testing module is  deprecated in version 0.22 and will be removed in version 0.24. The corresponding classes / functions should instead be imported from sklearn.utils. Anything that cannot be imported from sklearn.utils is now part of the private API.\n",
      "  warnings.warn(message, FutureWarning)\n"
     ]
    }
   ],
   "source": [
    "import os\n",
    "import sys\n",
    "sys.path.append(\"../../\")\n",
    "from imp import reload\n",
    "\n",
    "import Reader\n",
    "import toolkit\n",
    "import visualization\n",
    "# import GearboxFaultDetector\n",
    "import model_entry"
   ]
  },
  {
   "cell_type": "code",
   "execution_count": 2,
   "metadata": {},
   "outputs": [],
   "source": [
    "# reload(Reader)"
   ]
  },
  {
   "cell_type": "code",
   "execution_count": 3,
   "metadata": {},
   "outputs": [],
   "source": [
    "feature_path = r\"D:/Workspace/python_workspace/gearbox-fault-detection/local/feature/san_tang_hu/\"\n",
    "speed_path = r\"D:\\Workspace\\python_workspace\\gearbox-fault-detection\\local\\rotating_speed\\san_tang_hu\"\n",
    "wind_turbine = \"33\"\n",
    "sensors = (\n",
    "    \"gearbox\",\n",
    "    \"low_speed_shaft\",\n",
    "    \"high_speed_shaft\",\n",
    ")"
   ]
  },
  {
   "cell_type": "code",
   "execution_count": 4,
   "metadata": {},
   "outputs": [
    {
     "name": "stdout",
     "output_type": "stream",
     "text": [
      "feature.shape: (114, 75)\n"
     ]
    }
   ],
   "source": [
    "reader = Reader.Reader()\n",
    "feature = reader.read_feature(os.path.join(feature_path, wind_turbine), sensors)\n",
    "speed = reader.read_speed(os.path.join(speed_path, wind_turbine), sensors)\n",
    "\n",
    "toolkit.print_shape(feature=feature)"
   ]
  },
  {
   "cell_type": "code",
   "execution_count": 5,
   "metadata": {},
   "outputs": [
    {
     "data": {
      "text/plain": [
       "array([[<AxesSubplot:title={'center':'speed'}>]], dtype=object)"
      ]
     },
     "execution_count": 5,
     "metadata": {},
     "output_type": "execute_result"
    },
    {
     "data": {
      "image/png": "[encoded data removed]",
      "text/plain": [
       "<Figure size 432x288 with 1 Axes>"
      ]
     },
     "metadata": {
      "needs_background": "light"
     },
     "output_type": "display_data"
    }
   ],
   "source": [
    "speed.hist(bins=128)"
   ]
  },
  {
   "cell_type": "code",
   "execution_count": 6,
   "metadata": {},
   "outputs": [
    {
     "data": {
      "image/png": "[encoded data removed]",
      "text/plain": [
       "<Figure size 432x288 with 1 Axes>"
      ]
     },
     "metadata": {
      "needs_background": "light"
     },
     "output_type": "display_data"
    }
   ],
   "source": [
    "# feature = feature[speed.speed >= 1000]\n",
    "# speed = speed[speed.speed >= 1000]\n",
    "\n",
    "# toolkit.print_shape(feature=feature, speed=speed)\n",
    "\n",
    "visualization.data_distribution(feature)"
   ]
  },
  {
   "cell_type": "code",
   "execution_count": 7,
   "metadata": {},
   "outputs": [
    {
     "name": "stdout",
     "output_type": "stream",
     "text": [
      "feature_train.shape: (86, 75)\n",
      "feature_test.shape: (28, 75)\n"
     ]
    }
   ],
   "source": [
    "# 划分train set, test set\n",
    "train_start = \"2018-01\"\n",
    "train_end = \"2018-03\"\n",
    "\n",
    "test_start = \"2018-04\"\n",
    "test_end = \"2018\"\n",
    "\n",
    "feature_train = feature[train_start: train_end]\n",
    "# speed_train = speed[train_start: train_end]\n",
    "\n",
    "feature_test = feature[test_start: test_end]\n",
    "# speed_test = speed[test_start: test_end]\n",
    "\n",
    "toolkit.print_shape(feature_train=feature_train, feature_test=feature_test)"
   ]
  },
  {
   "cell_type": "code",
   "execution_count": 8,
   "metadata": {},
   "outputs": [],
   "source": [
    "# feature_test = feature[\"2018-04\": ]\n",
    "feature_test = feature\n",
    "# speed_test = speed"
   ]
  },
  {
   "cell_type": "code",
   "execution_count": 9,
   "metadata": {},
   "outputs": [],
   "source": [
    "detector = model_entry.OutlierDetector()"
   ]
  },
  {
   "cell_type": "code",
   "execution_count": 10,
   "metadata": {
    "scrolled": true
   },
   "outputs": [
    {
     "name": "stdout",
     "output_type": "stream",
     "text": [
      "WARNING:tensorflow:From D:\\Software\\Anaconda\\lib\\site-packages\\keras\\backend\\tensorflow_backend.py:74: The name tf.get_default_graph is deprecated. Please use tf.compat.v1.get_default_graph instead.\n",
      "\n",
      "WARNING:tensorflow:From D:\\Software\\Anaconda\\lib\\site-packages\\keras\\backend\\tensorflow_backend.py:517: The name tf.placeholder is deprecated. Please use tf.compat.v1.placeholder instead.\n",
      "\n",
      "WARNING:tensorflow:From D:\\Software\\Anaconda\\lib\\site-packages\\keras\\backend\\tensorflow_backend.py:4138: The name tf.random_uniform is deprecated. Please use tf.random.uniform instead.\n",
      "\n",
      "WARNING:tensorflow:From D:\\Software\\Anaconda\\lib\\site-packages\\keras\\backend\\tensorflow_backend.py:133: The name tf.placeholder_with_default is deprecated. Please use tf.compat.v1.placeholder_with_default instead.\n",
      "\n",
      "WARNING:tensorflow:From D:\\Software\\Anaconda\\lib\\site-packages\\keras\\backend\\tensorflow_backend.py:3445: calling dropout (from tensorflow.python.ops.nn_ops) with keep_prob is deprecated and will be removed in a future version.\n",
      "Instructions for updating:\n",
      "Please use `rate` instead of `keep_prob`. Rate should be set to `rate = 1 - keep_prob`.\n",
      "WARNING:tensorflow:From D:\\Software\\Anaconda\\lib\\site-packages\\keras\\optimizers.py:790: The name tf.train.Optimizer is deprecated. Please use tf.compat.v1.train.Optimizer instead.\n",
      "\n",
      "WARNING:tensorflow:From D:\\Software\\Anaconda\\lib\\site-packages\\keras\\backend\\tensorflow_backend.py:986: The name tf.assign_add is deprecated. Please use tf.compat.v1.assign_add instead.\n",
      "\n",
      "WARNING:tensorflow:From D:\\Software\\Anaconda\\lib\\site-packages\\keras\\backend\\tensorflow_backend.py:973: The name tf.assign is deprecated. Please use tf.compat.v1.assign instead.\n",
      "\n",
      "WARNING:tensorflow:From D:\\Software\\Anaconda\\lib\\site-packages\\keras\\backend\\tensorflow_backend.py:2741: The name tf.Session is deprecated. Please use tf.compat.v1.Session instead.\n",
      "\n",
      "WARNING:tensorflow:From D:\\Software\\Anaconda\\lib\\site-packages\\keras\\backend\\tensorflow_backend.py:174: The name tf.get_default_session is deprecated. Please use tf.compat.v1.get_default_session instead.\n",
      "\n",
      "WARNING:tensorflow:From D:\\Software\\Anaconda\\lib\\site-packages\\keras\\backend\\tensorflow_backend.py:181: The name tf.ConfigProto is deprecated. Please use tf.compat.v1.ConfigProto instead.\n",
      "\n",
      "WARNING:tensorflow:From D:\\Software\\Anaconda\\lib\\site-packages\\keras\\backend\\tensorflow_backend.py:190: The name tf.global_variables is deprecated. Please use tf.compat.v1.global_variables instead.\n",
      "\n",
      "WARNING:tensorflow:From D:\\Software\\Anaconda\\lib\\site-packages\\keras\\backend\\tensorflow_backend.py:199: The name tf.is_variable_initialized is deprecated. Please use tf.compat.v1.is_variable_initialized instead.\n",
      "\n",
      "WARNING:tensorflow:From D:\\Software\\Anaconda\\lib\\site-packages\\keras\\backend\\tensorflow_backend.py:206: The name tf.variables_initializer is deprecated. Please use tf.compat.v1.variables_initializer instead.\n",
      "\n"
     ]
    }
   ],
   "source": [
    "detector.fit(feature_train)"
   ]
  },
  {
   "cell_type": "code",
   "execution_count": 11,
   "metadata": {},
   "outputs": [
    {
     "data": {
      "text/plain": [
       "<AxesSubplot:xlabel='date'>"
      ]
     },
     "execution_count": 11,
     "metadata": {},
     "output_type": "execute_result"
    },
    {
     "data": {
      "image/png": "[encoded data removed]",
      "text/plain": [
       "<Figure size 432x288 with 1 Axes>"
      ]
     },
     "metadata": {
      "needs_background": "light"
     },
     "output_type": "display_data"
    }
   ],
   "source": [
    "detector.decision_scores.plot()"
   ]
  },
  {
   "cell_type": "code",
   "execution_count": 12,
   "metadata": {},
   "outputs": [],
   "source": [
    "anomaly_scores = detector.decision_function(feature_test)"
   ]
  },
  {
   "cell_type": "code",
   "execution_count": 13,
   "metadata": {},
   "outputs": [
    {
     "data": {
      "text/plain": [
       "<AxesSubplot:xlabel='date'>"
      ]
     },
     "execution_count": 13,
     "metadata": {},
     "output_type": "execute_result"
    },
    {
     "data": {
      "image/png": "[encoded data removed]",
      "text/plain": [
       "<Figure size 432x288 with 1 Axes>"
      ]
     },
     "metadata": {
      "needs_background": "light"
     },
     "output_type": "display_data"
    }
   ],
   "source": [
    "anomaly_scores.plot()"
   ]
  },
  {
   "cell_type": "code",
   "execution_count": 14,
   "metadata": {},
   "outputs": [
    {
     "data": {
      "text/html": [
       "<div>\n",
       "<style scoped>\n",
       "    .dataframe tbody tr th:only-of-type {\n",
       "        vertical-align: middle;\n",
       "    }\n",
       "\n",
       "    .dataframe tbody tr th {\n",
       "        vertical-align: top;\n",
       "    }\n",
       "\n",
       "    .dataframe thead th {\n",
       "        text-align: right;\n",
       "    }\n",
       "</style>\n",
       "<table border=\"1\" class=\"dataframe\">\n",
       "  <thead>\n",
       "    <tr style=\"text-align: right;\">\n",
       "      <th></th>\n",
       "      <th>0</th>\n",
       "    </tr>\n",
       "    <tr>\n",
       "      <th>date</th>\n",
       "      <th></th>\n",
       "    </tr>\n",
       "  </thead>\n",
       "  <tbody>\n",
       "    <tr>\n",
       "      <th>2018-04-08 14:00</th>\n",
       "      <td>4.900960</td>\n",
       "    </tr>\n",
       "    <tr>\n",
       "      <th>2018-04-09 12:00</th>\n",
       "      <td>4.816843</td>\n",
       "    </tr>\n",
       "    <tr>\n",
       "      <th>2018-04-10 06:00</th>\n",
       "      <td>4.133203</td>\n",
       "    </tr>\n",
       "    <tr>\n",
       "      <th>2018-04-12 12:00</th>\n",
       "      <td>5.987369</td>\n",
       "    </tr>\n",
       "    <tr>\n",
       "      <th>2018-04-13 00:00</th>\n",
       "      <td>4.501557</td>\n",
       "    </tr>\n",
       "    <tr>\n",
       "      <th>2018-04-15 00:00</th>\n",
       "      <td>5.052777</td>\n",
       "    </tr>\n",
       "    <tr>\n",
       "      <th>2018-04-16 00:00</th>\n",
       "      <td>5.169007</td>\n",
       "    </tr>\n",
       "    <tr>\n",
       "      <th>2018-04-17 06:00</th>\n",
       "      <td>5.668508</td>\n",
       "    </tr>\n",
       "    <tr>\n",
       "      <th>2018-04-18 06:00</th>\n",
       "      <td>4.022604</td>\n",
       "    </tr>\n",
       "    <tr>\n",
       "      <th>2018-04-19 12:00</th>\n",
       "      <td>7.153647</td>\n",
       "    </tr>\n",
       "    <tr>\n",
       "      <th>2018-04-20 06:00</th>\n",
       "      <td>10.913999</td>\n",
       "    </tr>\n",
       "    <tr>\n",
       "      <th>2018-04-21 06:00</th>\n",
       "      <td>18.599474</td>\n",
       "    </tr>\n",
       "    <tr>\n",
       "      <th>2018-04-22 00:00</th>\n",
       "      <td>14.704986</td>\n",
       "    </tr>\n",
       "    <tr>\n",
       "      <th>2018-04-24 06:00</th>\n",
       "      <td>16.857648</td>\n",
       "    </tr>\n",
       "    <tr>\n",
       "      <th>2018-04-25 00:00</th>\n",
       "      <td>17.861362</td>\n",
       "    </tr>\n",
       "    <tr>\n",
       "      <th>2018-04-26 12:00</th>\n",
       "      <td>16.586910</td>\n",
       "    </tr>\n",
       "    <tr>\n",
       "      <th>2018-04-27 06:00</th>\n",
       "      <td>16.541372</td>\n",
       "    </tr>\n",
       "    <tr>\n",
       "      <th>2018-04-28 06:00</th>\n",
       "      <td>22.100580</td>\n",
       "    </tr>\n",
       "    <tr>\n",
       "      <th>2018-04-29 06:00</th>\n",
       "      <td>32.767103</td>\n",
       "    </tr>\n",
       "    <tr>\n",
       "      <th>2018-04-30 00:00</th>\n",
       "      <td>34.986323</td>\n",
       "    </tr>\n",
       "  </tbody>\n",
       "</table>\n",
       "</div>"
      ],
      "text/plain": [
       "                          0\n",
       "date                       \n",
       "2018-04-08 14:00   4.900960\n",
       "2018-04-09 12:00   4.816843\n",
       "2018-04-10 06:00   4.133203\n",
       "2018-04-12 12:00   5.987369\n",
       "2018-04-13 00:00   4.501557\n",
       "2018-04-15 00:00   5.052777\n",
       "2018-04-16 00:00   5.169007\n",
       "2018-04-17 06:00   5.668508\n",
       "2018-04-18 06:00   4.022604\n",
       "2018-04-19 12:00   7.153647\n",
       "2018-04-20 06:00  10.913999\n",
       "2018-04-21 06:00  18.599474\n",
       "2018-04-22 00:00  14.704986\n",
       "2018-04-24 06:00  16.857648\n",
       "2018-04-25 00:00  17.861362\n",
       "2018-04-26 12:00  16.586910\n",
       "2018-04-27 06:00  16.541372\n",
       "2018-04-28 06:00  22.100580\n",
       "2018-04-29 06:00  32.767103\n",
       "2018-04-30 00:00  34.986323"
      ]
     },
     "execution_count": 14,
     "metadata": {},
     "output_type": "execute_result"
    }
   ],
   "source": [
    "anomaly_scores[anomaly_scores[0] > 4]"
   ]
  },
  {
   "cell_type": "code",
   "execution_count": 14,
   "metadata": {},
   "outputs": [
    {
     "data": {
      "text/plain": [
       "<bound method DataFrame.quantile of                       score\n",
       "date                       \n",
       "2018-01-01 12:00  -0.423245\n",
       "2018-01-02 00:00   0.077916\n",
       "2018-01-03 06:00   0.332002\n",
       "2018-01-04 06:00   0.881999\n",
       "2018-01-05 00:00  -0.888578\n",
       "...                     ...\n",
       "2018-04-26 12:00  16.725752\n",
       "2018-04-27 06:00  16.696396\n",
       "2018-04-28 06:00  22.098991\n",
       "2018-04-29 06:00  32.769714\n",
       "2018-04-30 00:00  34.990107\n",
       "\n",
       "[114 rows x 1 columns]>"
      ]
     },
     "execution_count": 14,
     "metadata": {},
     "output_type": "execute_result"
    }
   ],
   "source": [
    "anomaly_scores.quantile"
   ]
  },
  {
   "cell_type": "code",
   "execution_count": 17,
   "metadata": {},
   "outputs": [
    {
     "data": {
      "text/plain": [
       "score    5.904912\n",
       "Name: 0.9, dtype: float64"
      ]
     },
     "execution_count": 17,
     "metadata": {},
     "output_type": "execute_result"
    }
   ],
   "source": [
    "anomaly_scores.quantile(0.9)"
   ]
  },
  {
   "cell_type": "code",
   "execution_count": 16,
   "metadata": {},
   "outputs": [
    {
     "data": {
      "text/plain": [
       "1.117308577130326"
      ]
     },
     "execution_count": 16,
     "metadata": {},
     "output_type": "execute_result"
    }
   ],
   "source": [
    "detector.threshold"
   ]
  },
  {
   "cell_type": "code",
   "execution_count": 18,
   "metadata": {},
   "outputs": [
    {
     "data": {
      "text/plain": [
       "score    1.117309\n",
       "Name: 0.9, dtype: float64"
      ]
     },
     "execution_count": 18,
     "metadata": {},
     "output_type": "execute_result"
    }
   ],
   "source": [
    "detector.decision_scores.quantile(0.9)"
   ]
  },
  {
   "cell_type": "code",
   "execution_count": null,
   "metadata": {},
   "outputs": [],
   "source": []
  }
 ],
 "metadata": {
  "kernelspec": {
   "display_name": "Python 3",
   "language": "python",
   "name": "python3"
  },
  "language_info": {
   "codemirror_mode": {
    "name": "ipython",
    "version": 3
   },
   "file_extension": ".py",
   "mimetype": "text/x-python",
   "name": "python",
   "nbconvert_exporter": "python",
   "pygments_lexer": "ipython3",
   "version": "3.7.6"
  }
 },
 "nbformat": 4,
 "nbformat_minor": 4
}
