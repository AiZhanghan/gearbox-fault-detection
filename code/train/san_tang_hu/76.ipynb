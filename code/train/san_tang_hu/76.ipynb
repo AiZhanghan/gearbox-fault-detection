{
 "cells": [
  {
   "cell_type": "markdown",
   "metadata": {},
   "source": [
    "1. 2018-06-01 10:06:00: 查看FTP故障数据，gearbox_lubrication_filter_inlet_pressure显示大于10bar；上机组检查发现滤芯污染，有较多杂质，将过滤器内壁进行清理，更换新的滤芯，启机后观察进出口压力正常，机组恢复正常运行。\n",
    "1. 2018/8/29  5:08:00: 齿轮箱巡检，二级大后轴承存在磨损，需更换齿轮箱。"
   ]
  },
  {
   "cell_type": "code",
   "execution_count": 1,
   "metadata": {},
   "outputs": [
    {
     "name": "stderr",
     "output_type": "stream",
     "text": [
      "Using TensorFlow backend.\n",
      "D:\\Software\\Anaconda\\lib\\site-packages\\sklearn\\utils\\deprecation.py:143: FutureWarning: The sklearn.utils.testing module is  deprecated in version 0.22 and will be removed in version 0.24. The corresponding classes / functions should instead be imported from sklearn.utils. Anything that cannot be imported from sklearn.utils is now part of the private API.\n",
      "  warnings.warn(message, FutureWarning)\n"
     ]
    }
   ],
   "source": [
    "import os\n",
    "import sys\n",
    "sys.path.append(\"../../\")\n",
    "from imp import reload\n",
    "\n",
    "import Reader\n",
    "import toolkit\n",
    "import visualization\n",
    "# import GearboxFaultDetector\n",
    "import model_entry"
   ]
  },
  {
   "cell_type": "code",
   "execution_count": 2,
   "metadata": {},
   "outputs": [],
   "source": [
    "# reload(Reader)"
   ]
  },
  {
   "cell_type": "code",
   "execution_count": 3,
   "metadata": {},
   "outputs": [],
   "source": [
    "feature_path = r\"D:/Workspace/python_workspace/gearbox-fault-detection/local/feature/san_tang_hu/\"\n",
    "speed_path = r\"D:\\Workspace\\python_workspace\\gearbox-fault-detection\\local\\rotating_speed\\san_tang_hu\"\n",
    "wind_turbine = \"76\"\n",
    "sensors = (\n",
    "    \"gearbox\",\n",
    "    \"low_speed_shaft\",\n",
    "    \"high_speed_shaft\",\n",
    ")"
   ]
  },
  {
   "cell_type": "code",
   "execution_count": 4,
   "metadata": {},
   "outputs": [
    {
     "name": "stdout",
     "output_type": "stream",
     "text": [
      "feature.shape: (149, 75)\n"
     ]
    }
   ],
   "source": [
    "reader = Reader.Reader()\n",
    "feature = reader.read_feature(os.path.join(feature_path, wind_turbine), sensors)\n",
    "speed = reader.read_speed(os.path.join(speed_path, wind_turbine), sensors)\n",
    "\n",
    "toolkit.print_shape(feature=feature)"
   ]
  },
  {
   "cell_type": "code",
   "execution_count": 5,
   "metadata": {},
   "outputs": [
    {
     "data": {
      "text/plain": [
       "array([[<AxesSubplot:title={'center':'speed'}>]], dtype=object)"
      ]
     },
     "execution_count": 5,
     "metadata": {},
     "output_type": "execute_result"
    },
    {
     "data": {
      "image/png": "[encoded data removed]",
      "text/plain": [
       "<Figure size 432x288 with 1 Axes>"
      ]
     },
     "metadata": {
      "needs_background": "light"
     },
     "output_type": "display_data"
    }
   ],
   "source": [
    "speed.hist(bins=128)"
   ]
  },
  {
   "cell_type": "code",
   "execution_count": 6,
   "metadata": {},
   "outputs": [
    {
     "data": {
      "image/png": "[encoded data removed]",
      "text/plain": [
       "<Figure size 432x288 with 1 Axes>"
      ]
     },
     "metadata": {
      "needs_background": "light"
     },
     "output_type": "display_data"
    }
   ],
   "source": [
    "# feature = feature[speed.speed >= 1000]\n",
    "# speed = speed[speed.speed >= 1000]\n",
    "\n",
    "# toolkit.print_shape(feature=feature, speed=speed)\n",
    "\n",
    "visualization.data_distribution(feature)"
   ]
  },
  {
   "cell_type": "code",
   "execution_count": 7,
   "metadata": {},
   "outputs": [
    {
     "name": "stdout",
     "output_type": "stream",
     "text": [
      "feature_train.shape: (85, 75)\n",
      "feature_test.shape: (64, 75)\n"
     ]
    }
   ],
   "source": [
    "# 划分train set, test set\n",
    "train_start = \"2018-01\"\n",
    "train_end = \"2018-04\"\n",
    "\n",
    "test_start = \"2018-05\"\n",
    "test_end = \"2018\"\n",
    "\n",
    "feature_train = feature[train_start: train_end]\n",
    "# speed_train = speed[train_start: train_end]\n",
    "\n",
    "feature_test = feature[test_start: test_end]\n",
    "# speed_test = speed[test_start: test_end]\n",
    "\n",
    "toolkit.print_shape(feature_train=feature_train, feature_test=feature_test)"
   ]
  },
  {
   "cell_type": "code",
   "execution_count": 8,
   "metadata": {},
   "outputs": [],
   "source": [
    "feature_test = feature[\"2018-01\": ]\n",
    "# speed_test = speed"
   ]
  },
  {
   "cell_type": "code",
   "execution_count": 9,
   "metadata": {},
   "outputs": [],
   "source": [
    "detector = model_entry.OutlierDetector()"
   ]
  },
  {
   "cell_type": "code",
   "execution_count": 10,
   "metadata": {
    "scrolled": true
   },
   "outputs": [
    {
     "name": "stdout",
     "output_type": "stream",
     "text": [
      "WARNING:tensorflow:From D:\\Software\\Anaconda\\lib\\site-packages\\keras\\backend\\tensorflow_backend.py:74: The name tf.get_default_graph is deprecated. Please use tf.compat.v1.get_default_graph instead.\n",
      "\n",
      "WARNING:tensorflow:From D:\\Software\\Anaconda\\lib\\site-packages\\keras\\backend\\tensorflow_backend.py:517: The name tf.placeholder is deprecated. Please use tf.compat.v1.placeholder instead.\n",
      "\n",
      "WARNING:tensorflow:From D:\\Software\\Anaconda\\lib\\site-packages\\keras\\backend\\tensorflow_backend.py:4138: The name tf.random_uniform is deprecated. Please use tf.random.uniform instead.\n",
      "\n",
      "WARNING:tensorflow:From D:\\Software\\Anaconda\\lib\\site-packages\\keras\\backend\\tensorflow_backend.py:133: The name tf.placeholder_with_default is deprecated. Please use tf.compat.v1.placeholder_with_default instead.\n",
      "\n",
      "WARNING:tensorflow:From D:\\Software\\Anaconda\\lib\\site-packages\\keras\\backend\\tensorflow_backend.py:3445: calling dropout (from tensorflow.python.ops.nn_ops) with keep_prob is deprecated and will be removed in a future version.\n",
      "Instructions for updating:\n",
      "Please use `rate` instead of `keep_prob`. Rate should be set to `rate = 1 - keep_prob`.\n",
      "WARNING:tensorflow:From D:\\Software\\Anaconda\\lib\\site-packages\\keras\\optimizers.py:790: The name tf.train.Optimizer is deprecated. Please use tf.compat.v1.train.Optimizer instead.\n",
      "\n",
      "WARNING:tensorflow:From D:\\Software\\Anaconda\\lib\\site-packages\\keras\\backend\\tensorflow_backend.py:986: The name tf.assign_add is deprecated. Please use tf.compat.v1.assign_add instead.\n",
      "\n",
      "WARNING:tensorflow:From D:\\Software\\Anaconda\\lib\\site-packages\\keras\\backend\\tensorflow_backend.py:973: The name tf.assign is deprecated. Please use tf.compat.v1.assign instead.\n",
      "\n",
      "WARNING:tensorflow:From D:\\Software\\Anaconda\\lib\\site-packages\\keras\\backend\\tensorflow_backend.py:2741: The name tf.Session is deprecated. Please use tf.compat.v1.Session instead.\n",
      "\n",
      "WARNING:tensorflow:From D:\\Software\\Anaconda\\lib\\site-packages\\keras\\backend\\tensorflow_backend.py:174: The name tf.get_default_session is deprecated. Please use tf.compat.v1.get_default_session instead.\n",
      "\n",
      "WARNING:tensorflow:From D:\\Software\\Anaconda\\lib\\site-packages\\keras\\backend\\tensorflow_backend.py:181: The name tf.ConfigProto is deprecated. Please use tf.compat.v1.ConfigProto instead.\n",
      "\n",
      "WARNING:tensorflow:From D:\\Software\\Anaconda\\lib\\site-packages\\keras\\backend\\tensorflow_backend.py:190: The name tf.global_variables is deprecated. Please use tf.compat.v1.global_variables instead.\n",
      "\n",
      "WARNING:tensorflow:From D:\\Software\\Anaconda\\lib\\site-packages\\keras\\backend\\tensorflow_backend.py:199: The name tf.is_variable_initialized is deprecated. Please use tf.compat.v1.is_variable_initialized instead.\n",
      "\n",
      "WARNING:tensorflow:From D:\\Software\\Anaconda\\lib\\site-packages\\keras\\backend\\tensorflow_backend.py:206: The name tf.variables_initializer is deprecated. Please use tf.compat.v1.variables_initializer instead.\n",
      "\n"
     ]
    }
   ],
   "source": [
    "detector.fit(feature_train)"
   ]
  },
  {
   "cell_type": "code",
   "execution_count": 11,
   "metadata": {},
   "outputs": [
    {
     "data": {
      "text/plain": [
       "<AxesSubplot:xlabel='date'>"
      ]
     },
     "execution_count": 11,
     "metadata": {},
     "output_type": "execute_result"
    },
    {
     "data": {
      "image/png": "[encoded data removed]",
      "text/plain": [
       "<Figure size 432x288 with 1 Axes>"
      ]
     },
     "metadata": {
      "needs_background": "light"
     },
     "output_type": "display_data"
    }
   ],
   "source": [
    "detector.decision_scores.plot()"
   ]
  },
  {
   "cell_type": "code",
   "execution_count": 12,
   "metadata": {},
   "outputs": [],
   "source": [
    "anomaly_scores = detector.decision_function(feature_test)"
   ]
  },
  {
   "cell_type": "code",
   "execution_count": 13,
   "metadata": {},
   "outputs": [
    {
     "data": {
      "text/plain": [
       "<AxesSubplot:xlabel='date'>"
      ]
     },
     "execution_count": 13,
     "metadata": {},
     "output_type": "execute_result"
    },
    {
     "data": {
      "image/png": "[encoded data removed]",
      "text/plain": [
       "<Figure size 432x288 with 1 Axes>"
      ]
     },
     "metadata": {
      "needs_background": "light"
     },
     "output_type": "display_data"
    }
   ],
   "source": [
    "anomaly_scores.plot()"
   ]
  },
  {
   "cell_type": "code",
   "execution_count": 14,
   "metadata": {},
   "outputs": [
    {
     "data": {
      "text/html": [
       "<div>\n",
       "<style scoped>\n",
       "    .dataframe tbody tr th:only-of-type {\n",
       "        vertical-align: middle;\n",
       "    }\n",
       "\n",
       "    .dataframe tbody tr th {\n",
       "        vertical-align: top;\n",
       "    }\n",
       "\n",
       "    .dataframe thead th {\n",
       "        text-align: right;\n",
       "    }\n",
       "</style>\n",
       "<table border=\"1\" class=\"dataframe\">\n",
       "  <thead>\n",
       "    <tr style=\"text-align: right;\">\n",
       "      <th></th>\n",
       "      <th>0</th>\n",
       "    </tr>\n",
       "    <tr>\n",
       "      <th>date</th>\n",
       "      <th></th>\n",
       "    </tr>\n",
       "  </thead>\n",
       "  <tbody>\n",
       "    <tr>\n",
       "      <th>2018-05-07 12:00</th>\n",
       "      <td>5.206386</td>\n",
       "    </tr>\n",
       "    <tr>\n",
       "      <th>2018-05-25 00:00</th>\n",
       "      <td>4.331478</td>\n",
       "    </tr>\n",
       "    <tr>\n",
       "      <th>2018-05-26 06:00</th>\n",
       "      <td>4.394323</td>\n",
       "    </tr>\n",
       "    <tr>\n",
       "      <th>2018-05-27 00:00</th>\n",
       "      <td>4.870857</td>\n",
       "    </tr>\n",
       "    <tr>\n",
       "      <th>2018-05-28 00:00</th>\n",
       "      <td>5.938191</td>\n",
       "    </tr>\n",
       "    <tr>\n",
       "      <th>2018-05-29 06:00</th>\n",
       "      <td>6.349589</td>\n",
       "    </tr>\n",
       "    <tr>\n",
       "      <th>2018-05-30 18:00</th>\n",
       "      <td>5.305089</td>\n",
       "    </tr>\n",
       "    <tr>\n",
       "      <th>2018-06-01 03:00</th>\n",
       "      <td>5.387228</td>\n",
       "    </tr>\n",
       "    <tr>\n",
       "      <th>2018-06-02 15:00</th>\n",
       "      <td>4.052655</td>\n",
       "    </tr>\n",
       "    <tr>\n",
       "      <th>2018-06-08 00:00</th>\n",
       "      <td>4.529460</td>\n",
       "    </tr>\n",
       "    <tr>\n",
       "      <th>2018-08-02 12:00</th>\n",
       "      <td>4.084424</td>\n",
       "    </tr>\n",
       "    <tr>\n",
       "      <th>2018-08-03 00:00</th>\n",
       "      <td>4.917056</td>\n",
       "    </tr>\n",
       "    <tr>\n",
       "      <th>2018-08-04 12:00</th>\n",
       "      <td>4.231251</td>\n",
       "    </tr>\n",
       "    <tr>\n",
       "      <th>2018-08-06 01:00</th>\n",
       "      <td>4.807300</td>\n",
       "    </tr>\n",
       "    <tr>\n",
       "      <th>2018-08-07 16:00</th>\n",
       "      <td>5.252995</td>\n",
       "    </tr>\n",
       "    <tr>\n",
       "      <th>2018-08-08 20:00</th>\n",
       "      <td>4.019180</td>\n",
       "    </tr>\n",
       "    <tr>\n",
       "      <th>2018-08-09 01:00</th>\n",
       "      <td>4.235279</td>\n",
       "    </tr>\n",
       "    <tr>\n",
       "      <th>2018-08-10 05:00</th>\n",
       "      <td>4.785628</td>\n",
       "    </tr>\n",
       "    <tr>\n",
       "      <th>2018-08-11 13:00</th>\n",
       "      <td>4.058480</td>\n",
       "    </tr>\n",
       "    <tr>\n",
       "      <th>2018-08-12 00:00</th>\n",
       "      <td>5.390869</td>\n",
       "    </tr>\n",
       "    <tr>\n",
       "      <th>2018-08-14 06:00</th>\n",
       "      <td>4.799763</td>\n",
       "    </tr>\n",
       "    <tr>\n",
       "      <th>2018-08-16 15:00</th>\n",
       "      <td>4.124788</td>\n",
       "    </tr>\n",
       "    <tr>\n",
       "      <th>2018-08-18 06:00</th>\n",
       "      <td>5.824408</td>\n",
       "    </tr>\n",
       "    <tr>\n",
       "      <th>2018-08-19 18:00</th>\n",
       "      <td>4.334953</td>\n",
       "    </tr>\n",
       "    <tr>\n",
       "      <th>2018-08-20 01:00</th>\n",
       "      <td>5.659941</td>\n",
       "    </tr>\n",
       "    <tr>\n",
       "      <th>2018-08-21 00:00</th>\n",
       "      <td>4.412572</td>\n",
       "    </tr>\n",
       "    <tr>\n",
       "      <th>2018-08-22 01:00</th>\n",
       "      <td>4.410814</td>\n",
       "    </tr>\n",
       "    <tr>\n",
       "      <th>2018-08-25 21:00</th>\n",
       "      <td>4.492654</td>\n",
       "    </tr>\n",
       "    <tr>\n",
       "      <th>2018-08-28 07:00</th>\n",
       "      <td>5.504299</td>\n",
       "    </tr>\n",
       "    <tr>\n",
       "      <th>2018-08-29 19:00</th>\n",
       "      <td>4.634999</td>\n",
       "    </tr>\n",
       "  </tbody>\n",
       "</table>\n",
       "</div>"
      ],
      "text/plain": [
       "                         0\n",
       "date                      \n",
       "2018-05-07 12:00  5.206386\n",
       "2018-05-25 00:00  4.331478\n",
       "2018-05-26 06:00  4.394323\n",
       "2018-05-27 00:00  4.870857\n",
       "2018-05-28 00:00  5.938191\n",
       "2018-05-29 06:00  6.349589\n",
       "2018-05-30 18:00  5.305089\n",
       "2018-06-01 03:00  5.387228\n",
       "2018-06-02 15:00  4.052655\n",
       "2018-06-08 00:00  4.529460\n",
       "2018-08-02 12:00  4.084424\n",
       "2018-08-03 00:00  4.917056\n",
       "2018-08-04 12:00  4.231251\n",
       "2018-08-06 01:00  4.807300\n",
       "2018-08-07 16:00  5.252995\n",
       "2018-08-08 20:00  4.019180\n",
       "2018-08-09 01:00  4.235279\n",
       "2018-08-10 05:00  4.785628\n",
       "2018-08-11 13:00  4.058480\n",
       "2018-08-12 00:00  5.390869\n",
       "2018-08-14 06:00  4.799763\n",
       "2018-08-16 15:00  4.124788\n",
       "2018-08-18 06:00  5.824408\n",
       "2018-08-19 18:00  4.334953\n",
       "2018-08-20 01:00  5.659941\n",
       "2018-08-21 00:00  4.412572\n",
       "2018-08-22 01:00  4.410814\n",
       "2018-08-25 21:00  4.492654\n",
       "2018-08-28 07:00  5.504299\n",
       "2018-08-29 19:00  4.634999"
      ]
     },
     "execution_count": 14,
     "metadata": {},
     "output_type": "execute_result"
    }
   ],
   "source": [
    "anomaly_scores[anomaly_scores[0] > 4]"
   ]
  },
  {
   "cell_type": "code",
   "execution_count": null,
   "metadata": {},
   "outputs": [],
   "source": []
  }
 ],
 "metadata": {
  "kernelspec": {
   "display_name": "Python 3",
   "language": "python",
   "name": "python3"
  },
  "language_info": {
   "codemirror_mode": {
    "name": "ipython",
    "version": 3
   },
   "file_extension": ".py",
   "mimetype": "text/x-python",
   "name": "python",
   "nbconvert_exporter": "python",
   "pygments_lexer": "ipython3",
   "version": "3.7.6"
  }
 },
 "nbformat": 4,
 "nbformat_minor": 4
}
