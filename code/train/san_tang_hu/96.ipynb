{
 "cells": [
  {
   "cell_type": "markdown",
   "metadata": {},
   "source": [
    "1. 2018-08-17 10:08:00: 对齿轮箱进行巡检时，发现齿轮箱二级大后轴承有轻微磨损，现场厂家建议先运行。"
   ]
  },
  {
   "cell_type": "code",
   "execution_count": 1,
   "metadata": {},
   "outputs": [
    {
     "name": "stderr",
     "output_type": "stream",
     "text": [
      "Using TensorFlow backend.\n",
      "D:\\Software\\Anaconda\\lib\\site-packages\\sklearn\\utils\\deprecation.py:143: FutureWarning: The sklearn.utils.testing module is  deprecated in version 0.22 and will be removed in version 0.24. The corresponding classes / functions should instead be imported from sklearn.utils. Anything that cannot be imported from sklearn.utils is now part of the private API.\n",
      "  warnings.warn(message, FutureWarning)\n"
     ]
    }
   ],
   "source": [
    "import os\n",
    "import sys\n",
    "sys.path.append(\"../../\")\n",
    "from imp import reload\n",
    "\n",
    "import Reader\n",
    "import toolkit\n",
    "import visualization\n",
    "# import GearboxFaultDetector\n",
    "import model_entry"
   ]
  },
  {
   "cell_type": "code",
   "execution_count": 2,
   "metadata": {},
   "outputs": [],
   "source": [
    "# reload(Reader)"
   ]
  },
  {
   "cell_type": "code",
   "execution_count": 3,
   "metadata": {},
   "outputs": [],
   "source": [
    "feature_path = r\"D:/Workspace/python_workspace/gearbox-fault-detection/local/feature/san_tang_hu/\"\n",
    "speed_path = r\"D:\\Workspace\\python_workspace\\gearbox-fault-detection\\local\\rotating_speed\\san_tang_hu\"\n",
    "wind_turbine = \"96\"\n",
    "sensors = (\n",
    "    \"gearbox\",\n",
    "    \"low_speed_shaft\",\n",
    "    \"high_speed_shaft\",\n",
    ")"
   ]
  },
  {
   "cell_type": "code",
   "execution_count": 4,
   "metadata": {},
   "outputs": [
    {
     "name": "stdout",
     "output_type": "stream",
     "text": [
      "feature.shape: (176, 75)\n"
     ]
    }
   ],
   "source": [
    "reader = Reader.Reader()\n",
    "feature = reader.read_feature(os.path.join(feature_path, wind_turbine), sensors)\n",
    "speed = reader.read_speed(os.path.join(speed_path, wind_turbine), sensors)\n",
    "\n",
    "toolkit.print_shape(feature=feature)"
   ]
  },
  {
   "cell_type": "code",
   "execution_count": 5,
   "metadata": {},
   "outputs": [
    {
     "data": {
      "text/plain": [
       "array([[<AxesSubplot:title={'center':'speed'}>]], dtype=object)"
      ]
     },
     "execution_count": 5,
     "metadata": {},
     "output_type": "execute_result"
    },
    {
     "data": {
      "image/png": "[encoded data removed]",
      "text/plain": [
       "<Figure size 432x288 with 1 Axes>"
      ]
     },
     "metadata": {
      "needs_background": "light"
     },
     "output_type": "display_data"
    }
   ],
   "source": [
    "speed.hist(bins=128)"
   ]
  },
  {
   "cell_type": "code",
   "execution_count": 6,
   "metadata": {},
   "outputs": [
    {
     "data": {
      "image/png": "[encoded data removed]",
      "text/plain": [
       "<Figure size 432x288 with 1 Axes>"
      ]
     },
     "metadata": {
      "needs_background": "light"
     },
     "output_type": "display_data"
    }
   ],
   "source": [
    "# feature = feature[speed.speed >= 1000]\n",
    "# speed = speed[speed.speed >= 1000]\n",
    "\n",
    "# toolkit.print_shape(feature=feature, speed=speed)\n",
    "\n",
    "visualization.data_distribution(feature)"
   ]
  },
  {
   "cell_type": "code",
   "execution_count": 7,
   "metadata": {},
   "outputs": [
    {
     "name": "stdout",
     "output_type": "stream",
     "text": [
      "feature_train.shape: (62, 75)\n",
      "feature_test.shape: (30, 75)\n"
     ]
    }
   ],
   "source": [
    "# 划分train set, test set\n",
    "train_start = \"2018-04\"\n",
    "train_end = \"2018-06\"\n",
    "\n",
    "test_start = \"2018-08\"\n",
    "test_end = \"2018\"\n",
    "\n",
    "feature_train = feature[train_start: train_end]\n",
    "# speed_train = speed[train_start: train_end]\n",
    "\n",
    "feature_test = feature[test_start: test_end]\n",
    "# speed_test = speed[test_start: test_end]\n",
    "\n",
    "toolkit.print_shape(feature_train=feature_train, feature_test=feature_test)"
   ]
  },
  {
   "cell_type": "code",
   "execution_count": 8,
   "metadata": {},
   "outputs": [],
   "source": [
    "feature_test = feature[\"2018-04\": ]\n",
    "# speed_test = speed"
   ]
  },
  {
   "cell_type": "code",
   "execution_count": 9,
   "metadata": {},
   "outputs": [],
   "source": [
    "detector = model_entry.OutlierDetector()"
   ]
  },
  {
   "cell_type": "code",
   "execution_count": 10,
   "metadata": {
    "scrolled": true
   },
   "outputs": [
    {
     "name": "stdout",
     "output_type": "stream",
     "text": [
      "WARNING:tensorflow:From D:\\Software\\Anaconda\\lib\\site-packages\\keras\\backend\\tensorflow_backend.py:74: The name tf.get_default_graph is deprecated. Please use tf.compat.v1.get_default_graph instead.\n",
      "\n",
      "WARNING:tensorflow:From D:\\Software\\Anaconda\\lib\\site-packages\\keras\\backend\\tensorflow_backend.py:517: The name tf.placeholder is deprecated. Please use tf.compat.v1.placeholder instead.\n",
      "\n",
      "WARNING:tensorflow:From D:\\Software\\Anaconda\\lib\\site-packages\\keras\\backend\\tensorflow_backend.py:4138: The name tf.random_uniform is deprecated. Please use tf.random.uniform instead.\n",
      "\n",
      "WARNING:tensorflow:From D:\\Software\\Anaconda\\lib\\site-packages\\keras\\backend\\tensorflow_backend.py:133: The name tf.placeholder_with_default is deprecated. Please use tf.compat.v1.placeholder_with_default instead.\n",
      "\n",
      "WARNING:tensorflow:From D:\\Software\\Anaconda\\lib\\site-packages\\keras\\backend\\tensorflow_backend.py:3445: calling dropout (from tensorflow.python.ops.nn_ops) with keep_prob is deprecated and will be removed in a future version.\n",
      "Instructions for updating:\n",
      "Please use `rate` instead of `keep_prob`. Rate should be set to `rate = 1 - keep_prob`.\n",
      "WARNING:tensorflow:From D:\\Software\\Anaconda\\lib\\site-packages\\keras\\optimizers.py:790: The name tf.train.Optimizer is deprecated. Please use tf.compat.v1.train.Optimizer instead.\n",
      "\n",
      "WARNING:tensorflow:From D:\\Software\\Anaconda\\lib\\site-packages\\keras\\backend\\tensorflow_backend.py:986: The name tf.assign_add is deprecated. Please use tf.compat.v1.assign_add instead.\n",
      "\n",
      "WARNING:tensorflow:From D:\\Software\\Anaconda\\lib\\site-packages\\keras\\backend\\tensorflow_backend.py:973: The name tf.assign is deprecated. Please use tf.compat.v1.assign instead.\n",
      "\n",
      "WARNING:tensorflow:From D:\\Software\\Anaconda\\lib\\site-packages\\keras\\backend\\tensorflow_backend.py:2741: The name tf.Session is deprecated. Please use tf.compat.v1.Session instead.\n",
      "\n",
      "WARNING:tensorflow:From D:\\Software\\Anaconda\\lib\\site-packages\\keras\\backend\\tensorflow_backend.py:174: The name tf.get_default_session is deprecated. Please use tf.compat.v1.get_default_session instead.\n",
      "\n",
      "WARNING:tensorflow:From D:\\Software\\Anaconda\\lib\\site-packages\\keras\\backend\\tensorflow_backend.py:181: The name tf.ConfigProto is deprecated. Please use tf.compat.v1.ConfigProto instead.\n",
      "\n",
      "WARNING:tensorflow:From D:\\Software\\Anaconda\\lib\\site-packages\\keras\\backend\\tensorflow_backend.py:190: The name tf.global_variables is deprecated. Please use tf.compat.v1.global_variables instead.\n",
      "\n",
      "WARNING:tensorflow:From D:\\Software\\Anaconda\\lib\\site-packages\\keras\\backend\\tensorflow_backend.py:199: The name tf.is_variable_initialized is deprecated. Please use tf.compat.v1.is_variable_initialized instead.\n",
      "\n",
      "WARNING:tensorflow:From D:\\Software\\Anaconda\\lib\\site-packages\\keras\\backend\\tensorflow_backend.py:206: The name tf.variables_initializer is deprecated. Please use tf.compat.v1.variables_initializer instead.\n",
      "\n"
     ]
    }
   ],
   "source": [
    "detector.fit(feature_train)"
   ]
  },
  {
   "cell_type": "code",
   "execution_count": 11,
   "metadata": {},
   "outputs": [
    {
     "data": {
      "text/plain": [
       "<AxesSubplot:xlabel='date'>"
      ]
     },
     "execution_count": 11,
     "metadata": {},
     "output_type": "execute_result"
    },
    {
     "data": {
      "image/png": "[encoded data removed]",
      "text/plain": [
       "<Figure size 432x288 with 1 Axes>"
      ]
     },
     "metadata": {
      "needs_background": "light"
     },
     "output_type": "display_data"
    }
   ],
   "source": [
    "detector.decision_scores.plot()"
   ]
  },
  {
   "cell_type": "code",
   "execution_count": 12,
   "metadata": {},
   "outputs": [],
   "source": [
    "anomaly_scores = detector.decision_function(feature_test)"
   ]
  },
  {
   "cell_type": "code",
   "execution_count": 13,
   "metadata": {},
   "outputs": [
    {
     "data": {
      "text/plain": [
       "<AxesSubplot:xlabel='date'>"
      ]
     },
     "execution_count": 13,
     "metadata": {},
     "output_type": "execute_result"
    },
    {
     "data": {
      "image/png": "[encoded data removed]",
      "text/plain": [
       "<Figure size 432x288 with 1 Axes>"
      ]
     },
     "metadata": {
      "needs_background": "light"
     },
     "output_type": "display_data"
    }
   ],
   "source": [
    "anomaly_scores.plot()"
   ]
  },
  {
   "cell_type": "code",
   "execution_count": 14,
   "metadata": {},
   "outputs": [
    {
     "data": {
      "text/html": [
       "<div>\n",
       "<style scoped>\n",
       "    .dataframe tbody tr th:only-of-type {\n",
       "        vertical-align: middle;\n",
       "    }\n",
       "\n",
       "    .dataframe tbody tr th {\n",
       "        vertical-align: top;\n",
       "    }\n",
       "\n",
       "    .dataframe thead th {\n",
       "        text-align: right;\n",
       "    }\n",
       "</style>\n",
       "<table border=\"1\" class=\"dataframe\">\n",
       "  <thead>\n",
       "    <tr style=\"text-align: right;\">\n",
       "      <th></th>\n",
       "      <th>0</th>\n",
       "    </tr>\n",
       "    <tr>\n",
       "      <th>date</th>\n",
       "      <th></th>\n",
       "    </tr>\n",
       "  </thead>\n",
       "  <tbody>\n",
       "    <tr>\n",
       "      <th>2018-08-02 10:00</th>\n",
       "      <td>4.606132</td>\n",
       "    </tr>\n",
       "    <tr>\n",
       "      <th>2018-08-03 05:00</th>\n",
       "      <td>6.250310</td>\n",
       "    </tr>\n",
       "    <tr>\n",
       "      <th>2018-08-04 05:00</th>\n",
       "      <td>14.112547</td>\n",
       "    </tr>\n",
       "    <tr>\n",
       "      <th>2018-08-05 18:00</th>\n",
       "      <td>5.288121</td>\n",
       "    </tr>\n",
       "    <tr>\n",
       "      <th>2018-08-07 16:00</th>\n",
       "      <td>12.114897</td>\n",
       "    </tr>\n",
       "    <tr>\n",
       "      <th>2018-08-08 20:00</th>\n",
       "      <td>13.766661</td>\n",
       "    </tr>\n",
       "    <tr>\n",
       "      <th>2018-08-09 20:00</th>\n",
       "      <td>7.070117</td>\n",
       "    </tr>\n",
       "    <tr>\n",
       "      <th>2018-08-10 02:00</th>\n",
       "      <td>11.049629</td>\n",
       "    </tr>\n",
       "    <tr>\n",
       "      <th>2018-08-11 00:00</th>\n",
       "      <td>6.594908</td>\n",
       "    </tr>\n",
       "    <tr>\n",
       "      <th>2018-08-12 19:00</th>\n",
       "      <td>6.980465</td>\n",
       "    </tr>\n",
       "    <tr>\n",
       "      <th>2018-08-13 12:00</th>\n",
       "      <td>15.084845</td>\n",
       "    </tr>\n",
       "    <tr>\n",
       "      <th>2018-08-14 06:00</th>\n",
       "      <td>14.866280</td>\n",
       "    </tr>\n",
       "    <tr>\n",
       "      <th>2018-08-18 02:00</th>\n",
       "      <td>15.257268</td>\n",
       "    </tr>\n",
       "    <tr>\n",
       "      <th>2018-08-20 12:00</th>\n",
       "      <td>14.445690</td>\n",
       "    </tr>\n",
       "    <tr>\n",
       "      <th>2018-08-21 16:00</th>\n",
       "      <td>13.471580</td>\n",
       "    </tr>\n",
       "    <tr>\n",
       "      <th>2018-08-22 06:00</th>\n",
       "      <td>14.619009</td>\n",
       "    </tr>\n",
       "    <tr>\n",
       "      <th>2018-08-23 12:00</th>\n",
       "      <td>6.173123</td>\n",
       "    </tr>\n",
       "    <tr>\n",
       "      <th>2018-08-24 06:00</th>\n",
       "      <td>8.056960</td>\n",
       "    </tr>\n",
       "    <tr>\n",
       "      <th>2018-08-25 19:00</th>\n",
       "      <td>4.190570</td>\n",
       "    </tr>\n",
       "    <tr>\n",
       "      <th>2018-08-27 19:00</th>\n",
       "      <td>15.792259</td>\n",
       "    </tr>\n",
       "    <tr>\n",
       "      <th>2018-08-28 00:00</th>\n",
       "      <td>15.021520</td>\n",
       "    </tr>\n",
       "    <tr>\n",
       "      <th>2018-08-29 18:00</th>\n",
       "      <td>11.640646</td>\n",
       "    </tr>\n",
       "    <tr>\n",
       "      <th>2018-08-30 14:00</th>\n",
       "      <td>5.692416</td>\n",
       "    </tr>\n",
       "    <tr>\n",
       "      <th>2018-08-31 18:00</th>\n",
       "      <td>15.298524</td>\n",
       "    </tr>\n",
       "  </tbody>\n",
       "</table>\n",
       "</div>"
      ],
      "text/plain": [
       "                          0\n",
       "date                       \n",
       "2018-08-02 10:00   4.606132\n",
       "2018-08-03 05:00   6.250310\n",
       "2018-08-04 05:00  14.112547\n",
       "2018-08-05 18:00   5.288121\n",
       "2018-08-07 16:00  12.114897\n",
       "2018-08-08 20:00  13.766661\n",
       "2018-08-09 20:00   7.070117\n",
       "2018-08-10 02:00  11.049629\n",
       "2018-08-11 00:00   6.594908\n",
       "2018-08-12 19:00   6.980465\n",
       "2018-08-13 12:00  15.084845\n",
       "2018-08-14 06:00  14.866280\n",
       "2018-08-18 02:00  15.257268\n",
       "2018-08-20 12:00  14.445690\n",
       "2018-08-21 16:00  13.471580\n",
       "2018-08-22 06:00  14.619009\n",
       "2018-08-23 12:00   6.173123\n",
       "2018-08-24 06:00   8.056960\n",
       "2018-08-25 19:00   4.190570\n",
       "2018-08-27 19:00  15.792259\n",
       "2018-08-28 00:00  15.021520\n",
       "2018-08-29 18:00  11.640646\n",
       "2018-08-30 14:00   5.692416\n",
       "2018-08-31 18:00  15.298524"
      ]
     },
     "execution_count": 14,
     "metadata": {},
     "output_type": "execute_result"
    }
   ],
   "source": [
    "anomaly_scores[anomaly_scores[0] > 4]"
   ]
  },
  {
   "cell_type": "code",
   "execution_count": null,
   "metadata": {},
   "outputs": [],
   "source": []
  }
 ],
 "metadata": {
  "kernelspec": {
   "display_name": "Python 3",
   "language": "python",
   "name": "python3"
  },
  "language_info": {
   "codemirror_mode": {
    "name": "ipython",
    "version": 3
   },
   "file_extension": ".py",
   "mimetype": "text/x-python",
   "name": "python",
   "nbconvert_exporter": "python",
   "pygments_lexer": "ipython3",
   "version": "3.7.6"
  }
 },
 "nbformat": 4,
 "nbformat_minor": 4
}
